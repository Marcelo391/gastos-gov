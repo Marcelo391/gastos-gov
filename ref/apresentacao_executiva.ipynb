{
 "cells": [
  {
   "cell_type": "markdown",
   "metadata": {
    "id": "N-6537P-_2wm"
   },
   "source": [
    "# Criando uma apresentação executiva\n",
    "- Vamos usar a base de vendas do kaggle disponível em:\n",
    "    - https://www.kaggle.com/datasets/rohitsahoo/sales-forecasting\n",
    "\n",
    "### O que queremos responder?\n",
    "- Como foi a **venda** nesse período?\n",
    "- Qual foi a **categoria mais vendida**?\n",
    "- Qual foi o **item mais vendido**?\n"
   ]
  },
  {
   "cell_type": "markdown",
   "metadata": {
    "id": "3OEd4JWm_2wo"
   },
   "source": [
    "### 1. Importando e visualizando a base\n",
    "- Base: \"Criando uma apresentação executiva.csv\""
   ]
  },
  {
   "cell_type": "code",
   "execution_count": 1,
   "metadata": {
    "colab": {
     "base_uri": "https://localhost:8080/",
     "height": 346
    },
    "executionInfo": {
     "elapsed": 397,
     "status": "error",
     "timestamp": 1657135952316,
     "user": {
      "displayName": "Lucas Leal",
      "userId": "11399223107874428450"
     },
     "user_tz": 180
    },
    "id": "gScnNjg-_2wp",
    "outputId": "59e022f2-2a6f-482d-f074-45f4e2b07795"
   },
   "outputs": [],
   "source": [
    "# Importando as bibliotecas e a base\n",
    "import pandas as pd\n",
    "import numpy as np\n",
    "base = pd.read_csv(\"Criando uma apresentação executiva.csv\")"
   ]
  },
  {
   "cell_type": "code",
   "execution_count": 2,
   "metadata": {
    "executionInfo": {
     "elapsed": 5,
     "status": "aborted",
     "timestamp": 1657135952313,
     "user": {
      "displayName": "Lucas Leal",
      "userId": "11399223107874428450"
     },
     "user_tz": 180
    },
    "id": "O4V5cmy7_2wq"
   },
   "outputs": [
    {
     "data": {
      "text/html": [
       "<div>\n",
       "<style scoped>\n",
       "    .dataframe tbody tr th:only-of-type {\n",
       "        vertical-align: middle;\n",
       "    }\n",
       "\n",
       "    .dataframe tbody tr th {\n",
       "        vertical-align: top;\n",
       "    }\n",
       "\n",
       "    .dataframe thead th {\n",
       "        text-align: right;\n",
       "    }\n",
       "</style>\n",
       "<table border=\"1\" class=\"dataframe\">\n",
       "  <thead>\n",
       "    <tr style=\"text-align: right;\">\n",
       "      <th></th>\n",
       "      <th>Row ID</th>\n",
       "      <th>Order ID</th>\n",
       "      <th>Order Date</th>\n",
       "      <th>Ship Date</th>\n",
       "      <th>Ship Mode</th>\n",
       "      <th>Customer ID</th>\n",
       "      <th>Customer Name</th>\n",
       "      <th>Segment</th>\n",
       "      <th>Country</th>\n",
       "      <th>City</th>\n",
       "      <th>State</th>\n",
       "      <th>Postal Code</th>\n",
       "      <th>Region</th>\n",
       "      <th>Product ID</th>\n",
       "      <th>Category</th>\n",
       "      <th>Sub-Category</th>\n",
       "      <th>Product Name</th>\n",
       "      <th>Sales</th>\n",
       "    </tr>\n",
       "  </thead>\n",
       "  <tbody>\n",
       "    <tr>\n",
       "      <th>0</th>\n",
       "      <td>1</td>\n",
       "      <td>CA-2017-152156</td>\n",
       "      <td>08/11/2017</td>\n",
       "      <td>11/11/2017</td>\n",
       "      <td>Second Class</td>\n",
       "      <td>CG-12520</td>\n",
       "      <td>Claire Gute</td>\n",
       "      <td>Consumer</td>\n",
       "      <td>United States</td>\n",
       "      <td>Henderson</td>\n",
       "      <td>Kentucky</td>\n",
       "      <td>42420.0</td>\n",
       "      <td>South</td>\n",
       "      <td>FUR-BO-10001798</td>\n",
       "      <td>Furniture</td>\n",
       "      <td>Bookcases</td>\n",
       "      <td>Bush Somerset Collection Bookcase</td>\n",
       "      <td>261.9600</td>\n",
       "    </tr>\n",
       "    <tr>\n",
       "      <th>1</th>\n",
       "      <td>2</td>\n",
       "      <td>CA-2017-152156</td>\n",
       "      <td>08/11/2017</td>\n",
       "      <td>11/11/2017</td>\n",
       "      <td>Second Class</td>\n",
       "      <td>CG-12520</td>\n",
       "      <td>Claire Gute</td>\n",
       "      <td>Consumer</td>\n",
       "      <td>United States</td>\n",
       "      <td>Henderson</td>\n",
       "      <td>Kentucky</td>\n",
       "      <td>42420.0</td>\n",
       "      <td>South</td>\n",
       "      <td>FUR-CH-10000454</td>\n",
       "      <td>Furniture</td>\n",
       "      <td>Chairs</td>\n",
       "      <td>Hon Deluxe Fabric Upholstered Stacking Chairs,...</td>\n",
       "      <td>731.9400</td>\n",
       "    </tr>\n",
       "    <tr>\n",
       "      <th>2</th>\n",
       "      <td>3</td>\n",
       "      <td>CA-2017-138688</td>\n",
       "      <td>12/06/2017</td>\n",
       "      <td>16/06/2017</td>\n",
       "      <td>Second Class</td>\n",
       "      <td>DV-13045</td>\n",
       "      <td>Darrin Van Huff</td>\n",
       "      <td>Corporate</td>\n",
       "      <td>United States</td>\n",
       "      <td>Los Angeles</td>\n",
       "      <td>California</td>\n",
       "      <td>90036.0</td>\n",
       "      <td>West</td>\n",
       "      <td>OFF-LA-10000240</td>\n",
       "      <td>Office Supplies</td>\n",
       "      <td>Labels</td>\n",
       "      <td>Self-Adhesive Address Labels for Typewriters b...</td>\n",
       "      <td>14.6200</td>\n",
       "    </tr>\n",
       "    <tr>\n",
       "      <th>3</th>\n",
       "      <td>4</td>\n",
       "      <td>US-2016-108966</td>\n",
       "      <td>11/10/2016</td>\n",
       "      <td>18/10/2016</td>\n",
       "      <td>Standard Class</td>\n",
       "      <td>SO-20335</td>\n",
       "      <td>Sean O'Donnell</td>\n",
       "      <td>Consumer</td>\n",
       "      <td>United States</td>\n",
       "      <td>Fort Lauderdale</td>\n",
       "      <td>Florida</td>\n",
       "      <td>33311.0</td>\n",
       "      <td>South</td>\n",
       "      <td>FUR-TA-10000577</td>\n",
       "      <td>Furniture</td>\n",
       "      <td>Tables</td>\n",
       "      <td>Bretford CR4500 Series Slim Rectangular Table</td>\n",
       "      <td>957.5775</td>\n",
       "    </tr>\n",
       "    <tr>\n",
       "      <th>4</th>\n",
       "      <td>5</td>\n",
       "      <td>US-2016-108966</td>\n",
       "      <td>11/10/2016</td>\n",
       "      <td>18/10/2016</td>\n",
       "      <td>Standard Class</td>\n",
       "      <td>SO-20335</td>\n",
       "      <td>Sean O'Donnell</td>\n",
       "      <td>Consumer</td>\n",
       "      <td>United States</td>\n",
       "      <td>Fort Lauderdale</td>\n",
       "      <td>Florida</td>\n",
       "      <td>33311.0</td>\n",
       "      <td>South</td>\n",
       "      <td>OFF-ST-10000760</td>\n",
       "      <td>Office Supplies</td>\n",
       "      <td>Storage</td>\n",
       "      <td>Eldon Fold 'N Roll Cart System</td>\n",
       "      <td>22.3680</td>\n",
       "    </tr>\n",
       "    <tr>\n",
       "      <th>...</th>\n",
       "      <td>...</td>\n",
       "      <td>...</td>\n",
       "      <td>...</td>\n",
       "      <td>...</td>\n",
       "      <td>...</td>\n",
       "      <td>...</td>\n",
       "      <td>...</td>\n",
       "      <td>...</td>\n",
       "      <td>...</td>\n",
       "      <td>...</td>\n",
       "      <td>...</td>\n",
       "      <td>...</td>\n",
       "      <td>...</td>\n",
       "      <td>...</td>\n",
       "      <td>...</td>\n",
       "      <td>...</td>\n",
       "      <td>...</td>\n",
       "      <td>...</td>\n",
       "    </tr>\n",
       "    <tr>\n",
       "      <th>9795</th>\n",
       "      <td>9796</td>\n",
       "      <td>CA-2017-125920</td>\n",
       "      <td>21/05/2017</td>\n",
       "      <td>28/05/2017</td>\n",
       "      <td>Standard Class</td>\n",
       "      <td>SH-19975</td>\n",
       "      <td>Sally Hughsby</td>\n",
       "      <td>Corporate</td>\n",
       "      <td>United States</td>\n",
       "      <td>Chicago</td>\n",
       "      <td>Illinois</td>\n",
       "      <td>60610.0</td>\n",
       "      <td>Central</td>\n",
       "      <td>OFF-BI-10003429</td>\n",
       "      <td>Office Supplies</td>\n",
       "      <td>Binders</td>\n",
       "      <td>Cardinal HOLDit! Binder Insert Strips,Extra St...</td>\n",
       "      <td>3.7980</td>\n",
       "    </tr>\n",
       "    <tr>\n",
       "      <th>9796</th>\n",
       "      <td>9797</td>\n",
       "      <td>CA-2016-128608</td>\n",
       "      <td>12/01/2016</td>\n",
       "      <td>17/01/2016</td>\n",
       "      <td>Standard Class</td>\n",
       "      <td>CS-12490</td>\n",
       "      <td>Cindy Schnelling</td>\n",
       "      <td>Corporate</td>\n",
       "      <td>United States</td>\n",
       "      <td>Toledo</td>\n",
       "      <td>Ohio</td>\n",
       "      <td>43615.0</td>\n",
       "      <td>East</td>\n",
       "      <td>OFF-AR-10001374</td>\n",
       "      <td>Office Supplies</td>\n",
       "      <td>Art</td>\n",
       "      <td>BIC Brite Liner Highlighters, Chisel Tip</td>\n",
       "      <td>10.3680</td>\n",
       "    </tr>\n",
       "    <tr>\n",
       "      <th>9797</th>\n",
       "      <td>9798</td>\n",
       "      <td>CA-2016-128608</td>\n",
       "      <td>12/01/2016</td>\n",
       "      <td>17/01/2016</td>\n",
       "      <td>Standard Class</td>\n",
       "      <td>CS-12490</td>\n",
       "      <td>Cindy Schnelling</td>\n",
       "      <td>Corporate</td>\n",
       "      <td>United States</td>\n",
       "      <td>Toledo</td>\n",
       "      <td>Ohio</td>\n",
       "      <td>43615.0</td>\n",
       "      <td>East</td>\n",
       "      <td>TEC-PH-10004977</td>\n",
       "      <td>Technology</td>\n",
       "      <td>Phones</td>\n",
       "      <td>GE 30524EE4</td>\n",
       "      <td>235.1880</td>\n",
       "    </tr>\n",
       "    <tr>\n",
       "      <th>9798</th>\n",
       "      <td>9799</td>\n",
       "      <td>CA-2016-128608</td>\n",
       "      <td>12/01/2016</td>\n",
       "      <td>17/01/2016</td>\n",
       "      <td>Standard Class</td>\n",
       "      <td>CS-12490</td>\n",
       "      <td>Cindy Schnelling</td>\n",
       "      <td>Corporate</td>\n",
       "      <td>United States</td>\n",
       "      <td>Toledo</td>\n",
       "      <td>Ohio</td>\n",
       "      <td>43615.0</td>\n",
       "      <td>East</td>\n",
       "      <td>TEC-PH-10000912</td>\n",
       "      <td>Technology</td>\n",
       "      <td>Phones</td>\n",
       "      <td>Anker 24W Portable Micro USB Car Charger</td>\n",
       "      <td>26.3760</td>\n",
       "    </tr>\n",
       "    <tr>\n",
       "      <th>9799</th>\n",
       "      <td>9800</td>\n",
       "      <td>CA-2016-128608</td>\n",
       "      <td>12/01/2016</td>\n",
       "      <td>17/01/2016</td>\n",
       "      <td>Standard Class</td>\n",
       "      <td>CS-12490</td>\n",
       "      <td>Cindy Schnelling</td>\n",
       "      <td>Corporate</td>\n",
       "      <td>United States</td>\n",
       "      <td>Toledo</td>\n",
       "      <td>Ohio</td>\n",
       "      <td>43615.0</td>\n",
       "      <td>East</td>\n",
       "      <td>TEC-AC-10000487</td>\n",
       "      <td>Technology</td>\n",
       "      <td>Accessories</td>\n",
       "      <td>SanDisk Cruzer 4 GB USB Flash Drive</td>\n",
       "      <td>10.3840</td>\n",
       "    </tr>\n",
       "  </tbody>\n",
       "</table>\n",
       "<p>9800 rows × 18 columns</p>\n",
       "</div>"
      ],
      "text/plain": [
       "      Row ID        Order ID  Order Date   Ship Date       Ship Mode  \\\n",
       "0          1  CA-2017-152156  08/11/2017  11/11/2017    Second Class   \n",
       "1          2  CA-2017-152156  08/11/2017  11/11/2017    Second Class   \n",
       "2          3  CA-2017-138688  12/06/2017  16/06/2017    Second Class   \n",
       "3          4  US-2016-108966  11/10/2016  18/10/2016  Standard Class   \n",
       "4          5  US-2016-108966  11/10/2016  18/10/2016  Standard Class   \n",
       "...      ...             ...         ...         ...             ...   \n",
       "9795    9796  CA-2017-125920  21/05/2017  28/05/2017  Standard Class   \n",
       "9796    9797  CA-2016-128608  12/01/2016  17/01/2016  Standard Class   \n",
       "9797    9798  CA-2016-128608  12/01/2016  17/01/2016  Standard Class   \n",
       "9798    9799  CA-2016-128608  12/01/2016  17/01/2016  Standard Class   \n",
       "9799    9800  CA-2016-128608  12/01/2016  17/01/2016  Standard Class   \n",
       "\n",
       "     Customer ID     Customer Name    Segment        Country             City  \\\n",
       "0       CG-12520       Claire Gute   Consumer  United States        Henderson   \n",
       "1       CG-12520       Claire Gute   Consumer  United States        Henderson   \n",
       "2       DV-13045   Darrin Van Huff  Corporate  United States      Los Angeles   \n",
       "3       SO-20335    Sean O'Donnell   Consumer  United States  Fort Lauderdale   \n",
       "4       SO-20335    Sean O'Donnell   Consumer  United States  Fort Lauderdale   \n",
       "...          ...               ...        ...            ...              ...   \n",
       "9795    SH-19975     Sally Hughsby  Corporate  United States          Chicago   \n",
       "9796    CS-12490  Cindy Schnelling  Corporate  United States           Toledo   \n",
       "9797    CS-12490  Cindy Schnelling  Corporate  United States           Toledo   \n",
       "9798    CS-12490  Cindy Schnelling  Corporate  United States           Toledo   \n",
       "9799    CS-12490  Cindy Schnelling  Corporate  United States           Toledo   \n",
       "\n",
       "           State  Postal Code   Region       Product ID         Category  \\\n",
       "0       Kentucky      42420.0    South  FUR-BO-10001798        Furniture   \n",
       "1       Kentucky      42420.0    South  FUR-CH-10000454        Furniture   \n",
       "2     California      90036.0     West  OFF-LA-10000240  Office Supplies   \n",
       "3        Florida      33311.0    South  FUR-TA-10000577        Furniture   \n",
       "4        Florida      33311.0    South  OFF-ST-10000760  Office Supplies   \n",
       "...          ...          ...      ...              ...              ...   \n",
       "9795    Illinois      60610.0  Central  OFF-BI-10003429  Office Supplies   \n",
       "9796        Ohio      43615.0     East  OFF-AR-10001374  Office Supplies   \n",
       "9797        Ohio      43615.0     East  TEC-PH-10004977       Technology   \n",
       "9798        Ohio      43615.0     East  TEC-PH-10000912       Technology   \n",
       "9799        Ohio      43615.0     East  TEC-AC-10000487       Technology   \n",
       "\n",
       "     Sub-Category                                       Product Name     Sales  \n",
       "0       Bookcases                  Bush Somerset Collection Bookcase  261.9600  \n",
       "1          Chairs  Hon Deluxe Fabric Upholstered Stacking Chairs,...  731.9400  \n",
       "2          Labels  Self-Adhesive Address Labels for Typewriters b...   14.6200  \n",
       "3          Tables      Bretford CR4500 Series Slim Rectangular Table  957.5775  \n",
       "4         Storage                     Eldon Fold 'N Roll Cart System   22.3680  \n",
       "...           ...                                                ...       ...  \n",
       "9795      Binders  Cardinal HOLDit! Binder Insert Strips,Extra St...    3.7980  \n",
       "9796          Art           BIC Brite Liner Highlighters, Chisel Tip   10.3680  \n",
       "9797       Phones                                        GE 30524EE4  235.1880  \n",
       "9798       Phones           Anker 24W Portable Micro USB Car Charger   26.3760  \n",
       "9799  Accessories                SanDisk Cruzer 4 GB USB Flash Drive   10.3840  \n",
       "\n",
       "[9800 rows x 18 columns]"
      ]
     },
     "metadata": {},
     "output_type": "display_data"
    }
   ],
   "source": [
    "display(base)"
   ]
  },
  {
   "cell_type": "markdown",
   "metadata": {
    "id": "OaCqEE5B_2wq"
   },
   "source": [
    "### 2. Entendendo e tratando a base"
   ]
  },
  {
   "cell_type": "code",
   "execution_count": 3,
   "metadata": {
    "executionInfo": {
     "elapsed": 5,
     "status": "aborted",
     "timestamp": 1657135952314,
     "user": {
      "displayName": "Lucas Leal",
      "userId": "11399223107874428450"
     },
     "user_tz": 180
    },
    "id": "wShQLn4N_2wr"
   },
   "outputs": [
    {
     "name": "stdout",
     "output_type": "stream",
     "text": [
      "<class 'pandas.core.frame.DataFrame'>\n",
      "RangeIndex: 9800 entries, 0 to 9799\n",
      "Data columns (total 18 columns):\n",
      " #   Column         Non-Null Count  Dtype  \n",
      "---  ------         --------------  -----  \n",
      " 0   Row ID         9800 non-null   int64  \n",
      " 1   Order ID       9800 non-null   object \n",
      " 2   Order Date     9800 non-null   object \n",
      " 3   Ship Date      9800 non-null   object \n",
      " 4   Ship Mode      9800 non-null   object \n",
      " 5   Customer ID    9800 non-null   object \n",
      " 6   Customer Name  9800 non-null   object \n",
      " 7   Segment        9800 non-null   object \n",
      " 8   Country        9800 non-null   object \n",
      " 9   City           9800 non-null   object \n",
      " 10  State          9800 non-null   object \n",
      " 11  Postal Code    9789 non-null   float64\n",
      " 12  Region         9800 non-null   object \n",
      " 13  Product ID     9800 non-null   object \n",
      " 14  Category       9800 non-null   object \n",
      " 15  Sub-Category   9800 non-null   object \n",
      " 16  Product Name   9800 non-null   object \n",
      " 17  Sales          9800 non-null   float64\n",
      "dtypes: float64(2), int64(1), object(15)\n",
      "memory usage: 1.3+ MB\n"
     ]
    }
   ],
   "source": [
    "# Visualizando as informações da base\n",
    "base.info()"
   ]
  },
  {
   "cell_type": "markdown",
   "metadata": {
    "id": "BSlQUhl1_2ws"
   },
   "source": [
    "**Apenas código postal possui valores nulos, podemos visualizar quais linhas não possuem esse valor**"
   ]
  },
  {
   "cell_type": "code",
   "execution_count": 4,
   "metadata": {
    "executionInfo": {
     "elapsed": 5,
     "status": "aborted",
     "timestamp": 1657135952314,
     "user": {
      "displayName": "Lucas Leal",
      "userId": "11399223107874428450"
     },
     "user_tz": 180
    },
    "id": "1QTAqn3X_2ws"
   },
   "outputs": [
    {
     "data": {
      "text/html": [
       "<div>\n",
       "<style scoped>\n",
       "    .dataframe tbody tr th:only-of-type {\n",
       "        vertical-align: middle;\n",
       "    }\n",
       "\n",
       "    .dataframe tbody tr th {\n",
       "        vertical-align: top;\n",
       "    }\n",
       "\n",
       "    .dataframe thead th {\n",
       "        text-align: right;\n",
       "    }\n",
       "</style>\n",
       "<table border=\"1\" class=\"dataframe\">\n",
       "  <thead>\n",
       "    <tr style=\"text-align: right;\">\n",
       "      <th></th>\n",
       "      <th>Row ID</th>\n",
       "      <th>Order ID</th>\n",
       "      <th>Order Date</th>\n",
       "      <th>Ship Date</th>\n",
       "      <th>Ship Mode</th>\n",
       "      <th>Customer ID</th>\n",
       "      <th>Customer Name</th>\n",
       "      <th>Segment</th>\n",
       "      <th>Country</th>\n",
       "      <th>City</th>\n",
       "      <th>State</th>\n",
       "      <th>Postal Code</th>\n",
       "      <th>Region</th>\n",
       "      <th>Product ID</th>\n",
       "      <th>Category</th>\n",
       "      <th>Sub-Category</th>\n",
       "      <th>Product Name</th>\n",
       "      <th>Sales</th>\n",
       "    </tr>\n",
       "  </thead>\n",
       "  <tbody>\n",
       "    <tr>\n",
       "      <th>2234</th>\n",
       "      <td>2235</td>\n",
       "      <td>CA-2018-104066</td>\n",
       "      <td>05/12/2018</td>\n",
       "      <td>10/12/2018</td>\n",
       "      <td>Standard Class</td>\n",
       "      <td>QJ-19255</td>\n",
       "      <td>Quincy Jones</td>\n",
       "      <td>Corporate</td>\n",
       "      <td>United States</td>\n",
       "      <td>Burlington</td>\n",
       "      <td>Vermont</td>\n",
       "      <td>NaN</td>\n",
       "      <td>East</td>\n",
       "      <td>TEC-AC-10001013</td>\n",
       "      <td>Technology</td>\n",
       "      <td>Accessories</td>\n",
       "      <td>Logitech ClearChat Comfort/USB Headset H390</td>\n",
       "      <td>205.03</td>\n",
       "    </tr>\n",
       "    <tr>\n",
       "      <th>5274</th>\n",
       "      <td>5275</td>\n",
       "      <td>CA-2016-162887</td>\n",
       "      <td>07/11/2016</td>\n",
       "      <td>09/11/2016</td>\n",
       "      <td>Second Class</td>\n",
       "      <td>SV-20785</td>\n",
       "      <td>Stewart Visinsky</td>\n",
       "      <td>Consumer</td>\n",
       "      <td>United States</td>\n",
       "      <td>Burlington</td>\n",
       "      <td>Vermont</td>\n",
       "      <td>NaN</td>\n",
       "      <td>East</td>\n",
       "      <td>FUR-CH-10000595</td>\n",
       "      <td>Furniture</td>\n",
       "      <td>Chairs</td>\n",
       "      <td>Safco Contoured Stacking Chairs</td>\n",
       "      <td>715.20</td>\n",
       "    </tr>\n",
       "    <tr>\n",
       "      <th>8798</th>\n",
       "      <td>8799</td>\n",
       "      <td>US-2017-150140</td>\n",
       "      <td>06/04/2017</td>\n",
       "      <td>10/04/2017</td>\n",
       "      <td>Standard Class</td>\n",
       "      <td>VM-21685</td>\n",
       "      <td>Valerie Mitchum</td>\n",
       "      <td>Home Office</td>\n",
       "      <td>United States</td>\n",
       "      <td>Burlington</td>\n",
       "      <td>Vermont</td>\n",
       "      <td>NaN</td>\n",
       "      <td>East</td>\n",
       "      <td>TEC-PH-10002555</td>\n",
       "      <td>Technology</td>\n",
       "      <td>Phones</td>\n",
       "      <td>Nortel Meridian M5316 Digital phone</td>\n",
       "      <td>1294.75</td>\n",
       "    </tr>\n",
       "    <tr>\n",
       "      <th>9146</th>\n",
       "      <td>9147</td>\n",
       "      <td>US-2017-165505</td>\n",
       "      <td>23/01/2017</td>\n",
       "      <td>27/01/2017</td>\n",
       "      <td>Standard Class</td>\n",
       "      <td>CB-12535</td>\n",
       "      <td>Claudia Bergmann</td>\n",
       "      <td>Corporate</td>\n",
       "      <td>United States</td>\n",
       "      <td>Burlington</td>\n",
       "      <td>Vermont</td>\n",
       "      <td>NaN</td>\n",
       "      <td>East</td>\n",
       "      <td>TEC-AC-10002926</td>\n",
       "      <td>Technology</td>\n",
       "      <td>Accessories</td>\n",
       "      <td>Logitech Wireless Marathon Mouse M705</td>\n",
       "      <td>99.98</td>\n",
       "    </tr>\n",
       "    <tr>\n",
       "      <th>9147</th>\n",
       "      <td>9148</td>\n",
       "      <td>US-2017-165505</td>\n",
       "      <td>23/01/2017</td>\n",
       "      <td>27/01/2017</td>\n",
       "      <td>Standard Class</td>\n",
       "      <td>CB-12535</td>\n",
       "      <td>Claudia Bergmann</td>\n",
       "      <td>Corporate</td>\n",
       "      <td>United States</td>\n",
       "      <td>Burlington</td>\n",
       "      <td>Vermont</td>\n",
       "      <td>NaN</td>\n",
       "      <td>East</td>\n",
       "      <td>OFF-AR-10003477</td>\n",
       "      <td>Office Supplies</td>\n",
       "      <td>Art</td>\n",
       "      <td>4009 Highlighters</td>\n",
       "      <td>8.04</td>\n",
       "    </tr>\n",
       "    <tr>\n",
       "      <th>9148</th>\n",
       "      <td>9149</td>\n",
       "      <td>US-2017-165505</td>\n",
       "      <td>23/01/2017</td>\n",
       "      <td>27/01/2017</td>\n",
       "      <td>Standard Class</td>\n",
       "      <td>CB-12535</td>\n",
       "      <td>Claudia Bergmann</td>\n",
       "      <td>Corporate</td>\n",
       "      <td>United States</td>\n",
       "      <td>Burlington</td>\n",
       "      <td>Vermont</td>\n",
       "      <td>NaN</td>\n",
       "      <td>East</td>\n",
       "      <td>OFF-ST-10001526</td>\n",
       "      <td>Office Supplies</td>\n",
       "      <td>Storage</td>\n",
       "      <td>Iceberg Mobile Mega Data/Printer Cart</td>\n",
       "      <td>1564.29</td>\n",
       "    </tr>\n",
       "    <tr>\n",
       "      <th>9386</th>\n",
       "      <td>9387</td>\n",
       "      <td>US-2018-127292</td>\n",
       "      <td>19/01/2018</td>\n",
       "      <td>23/01/2018</td>\n",
       "      <td>Standard Class</td>\n",
       "      <td>RM-19375</td>\n",
       "      <td>Raymond Messe</td>\n",
       "      <td>Consumer</td>\n",
       "      <td>United States</td>\n",
       "      <td>Burlington</td>\n",
       "      <td>Vermont</td>\n",
       "      <td>NaN</td>\n",
       "      <td>East</td>\n",
       "      <td>OFF-PA-10000157</td>\n",
       "      <td>Office Supplies</td>\n",
       "      <td>Paper</td>\n",
       "      <td>Xerox 191</td>\n",
       "      <td>79.92</td>\n",
       "    </tr>\n",
       "    <tr>\n",
       "      <th>9387</th>\n",
       "      <td>9388</td>\n",
       "      <td>US-2018-127292</td>\n",
       "      <td>19/01/2018</td>\n",
       "      <td>23/01/2018</td>\n",
       "      <td>Standard Class</td>\n",
       "      <td>RM-19375</td>\n",
       "      <td>Raymond Messe</td>\n",
       "      <td>Consumer</td>\n",
       "      <td>United States</td>\n",
       "      <td>Burlington</td>\n",
       "      <td>Vermont</td>\n",
       "      <td>NaN</td>\n",
       "      <td>East</td>\n",
       "      <td>OFF-PA-10001970</td>\n",
       "      <td>Office Supplies</td>\n",
       "      <td>Paper</td>\n",
       "      <td>Xerox 1881</td>\n",
       "      <td>12.28</td>\n",
       "    </tr>\n",
       "    <tr>\n",
       "      <th>9388</th>\n",
       "      <td>9389</td>\n",
       "      <td>US-2018-127292</td>\n",
       "      <td>19/01/2018</td>\n",
       "      <td>23/01/2018</td>\n",
       "      <td>Standard Class</td>\n",
       "      <td>RM-19375</td>\n",
       "      <td>Raymond Messe</td>\n",
       "      <td>Consumer</td>\n",
       "      <td>United States</td>\n",
       "      <td>Burlington</td>\n",
       "      <td>Vermont</td>\n",
       "      <td>NaN</td>\n",
       "      <td>East</td>\n",
       "      <td>OFF-AP-10000828</td>\n",
       "      <td>Office Supplies</td>\n",
       "      <td>Appliances</td>\n",
       "      <td>Avanti 4.4 Cu. Ft. Refrigerator</td>\n",
       "      <td>542.94</td>\n",
       "    </tr>\n",
       "    <tr>\n",
       "      <th>9389</th>\n",
       "      <td>9390</td>\n",
       "      <td>US-2018-127292</td>\n",
       "      <td>19/01/2018</td>\n",
       "      <td>23/01/2018</td>\n",
       "      <td>Standard Class</td>\n",
       "      <td>RM-19375</td>\n",
       "      <td>Raymond Messe</td>\n",
       "      <td>Consumer</td>\n",
       "      <td>United States</td>\n",
       "      <td>Burlington</td>\n",
       "      <td>Vermont</td>\n",
       "      <td>NaN</td>\n",
       "      <td>East</td>\n",
       "      <td>OFF-EN-10001509</td>\n",
       "      <td>Office Supplies</td>\n",
       "      <td>Envelopes</td>\n",
       "      <td>Poly String Tie Envelopes</td>\n",
       "      <td>2.04</td>\n",
       "    </tr>\n",
       "    <tr>\n",
       "      <th>9741</th>\n",
       "      <td>9742</td>\n",
       "      <td>CA-2016-117086</td>\n",
       "      <td>08/11/2016</td>\n",
       "      <td>12/11/2016</td>\n",
       "      <td>Standard Class</td>\n",
       "      <td>QJ-19255</td>\n",
       "      <td>Quincy Jones</td>\n",
       "      <td>Corporate</td>\n",
       "      <td>United States</td>\n",
       "      <td>Burlington</td>\n",
       "      <td>Vermont</td>\n",
       "      <td>NaN</td>\n",
       "      <td>East</td>\n",
       "      <td>FUR-BO-10004834</td>\n",
       "      <td>Furniture</td>\n",
       "      <td>Bookcases</td>\n",
       "      <td>Riverside Palais Royal Lawyers Bookcase, Royal...</td>\n",
       "      <td>4404.90</td>\n",
       "    </tr>\n",
       "  </tbody>\n",
       "</table>\n",
       "</div>"
      ],
      "text/plain": [
       "      Row ID        Order ID  Order Date   Ship Date       Ship Mode  \\\n",
       "2234    2235  CA-2018-104066  05/12/2018  10/12/2018  Standard Class   \n",
       "5274    5275  CA-2016-162887  07/11/2016  09/11/2016    Second Class   \n",
       "8798    8799  US-2017-150140  06/04/2017  10/04/2017  Standard Class   \n",
       "9146    9147  US-2017-165505  23/01/2017  27/01/2017  Standard Class   \n",
       "9147    9148  US-2017-165505  23/01/2017  27/01/2017  Standard Class   \n",
       "9148    9149  US-2017-165505  23/01/2017  27/01/2017  Standard Class   \n",
       "9386    9387  US-2018-127292  19/01/2018  23/01/2018  Standard Class   \n",
       "9387    9388  US-2018-127292  19/01/2018  23/01/2018  Standard Class   \n",
       "9388    9389  US-2018-127292  19/01/2018  23/01/2018  Standard Class   \n",
       "9389    9390  US-2018-127292  19/01/2018  23/01/2018  Standard Class   \n",
       "9741    9742  CA-2016-117086  08/11/2016  12/11/2016  Standard Class   \n",
       "\n",
       "     Customer ID     Customer Name      Segment        Country        City  \\\n",
       "2234    QJ-19255      Quincy Jones    Corporate  United States  Burlington   \n",
       "5274    SV-20785  Stewart Visinsky     Consumer  United States  Burlington   \n",
       "8798    VM-21685   Valerie Mitchum  Home Office  United States  Burlington   \n",
       "9146    CB-12535  Claudia Bergmann    Corporate  United States  Burlington   \n",
       "9147    CB-12535  Claudia Bergmann    Corporate  United States  Burlington   \n",
       "9148    CB-12535  Claudia Bergmann    Corporate  United States  Burlington   \n",
       "9386    RM-19375     Raymond Messe     Consumer  United States  Burlington   \n",
       "9387    RM-19375     Raymond Messe     Consumer  United States  Burlington   \n",
       "9388    RM-19375     Raymond Messe     Consumer  United States  Burlington   \n",
       "9389    RM-19375     Raymond Messe     Consumer  United States  Burlington   \n",
       "9741    QJ-19255      Quincy Jones    Corporate  United States  Burlington   \n",
       "\n",
       "        State  Postal Code Region       Product ID         Category  \\\n",
       "2234  Vermont          NaN   East  TEC-AC-10001013       Technology   \n",
       "5274  Vermont          NaN   East  FUR-CH-10000595        Furniture   \n",
       "8798  Vermont          NaN   East  TEC-PH-10002555       Technology   \n",
       "9146  Vermont          NaN   East  TEC-AC-10002926       Technology   \n",
       "9147  Vermont          NaN   East  OFF-AR-10003477  Office Supplies   \n",
       "9148  Vermont          NaN   East  OFF-ST-10001526  Office Supplies   \n",
       "9386  Vermont          NaN   East  OFF-PA-10000157  Office Supplies   \n",
       "9387  Vermont          NaN   East  OFF-PA-10001970  Office Supplies   \n",
       "9388  Vermont          NaN   East  OFF-AP-10000828  Office Supplies   \n",
       "9389  Vermont          NaN   East  OFF-EN-10001509  Office Supplies   \n",
       "9741  Vermont          NaN   East  FUR-BO-10004834        Furniture   \n",
       "\n",
       "     Sub-Category                                       Product Name    Sales  \n",
       "2234  Accessories        Logitech ClearChat Comfort/USB Headset H390   205.03  \n",
       "5274       Chairs                    Safco Contoured Stacking Chairs   715.20  \n",
       "8798       Phones                Nortel Meridian M5316 Digital phone  1294.75  \n",
       "9146  Accessories              Logitech Wireless Marathon Mouse M705    99.98  \n",
       "9147          Art                                  4009 Highlighters     8.04  \n",
       "9148      Storage              Iceberg Mobile Mega Data/Printer Cart  1564.29  \n",
       "9386        Paper                                          Xerox 191    79.92  \n",
       "9387        Paper                                         Xerox 1881    12.28  \n",
       "9388   Appliances                    Avanti 4.4 Cu. Ft. Refrigerator   542.94  \n",
       "9389    Envelopes                          Poly String Tie Envelopes     2.04  \n",
       "9741    Bookcases  Riverside Palais Royal Lawyers Bookcase, Royal...  4404.90  "
      ]
     },
     "execution_count": 4,
     "metadata": {},
     "output_type": "execute_result"
    }
   ],
   "source": [
    "# Verificando os registros com Postal Code vazio\n",
    "base[base['Postal Code'].isnull()]"
   ]
  },
  {
   "cell_type": "markdown",
   "metadata": {
    "id": "C7l8Jk1A_2wt"
   },
   "source": [
    "**Todos os registros sem código postal são da cidade de Burlington, em Vermont. Será que algum registro dessa cidade possui código postal?**"
   ]
  },
  {
   "cell_type": "code",
   "execution_count": 5,
   "metadata": {
    "executionInfo": {
     "elapsed": 5,
     "status": "aborted",
     "timestamp": 1657135952314,
     "user": {
      "displayName": "Lucas Leal",
      "userId": "11399223107874428450"
     },
     "user_tz": 180
    },
    "id": "Pmo960uh_2wt"
   },
   "outputs": [
    {
     "data": {
      "text/html": [
       "<div>\n",
       "<style scoped>\n",
       "    .dataframe tbody tr th:only-of-type {\n",
       "        vertical-align: middle;\n",
       "    }\n",
       "\n",
       "    .dataframe tbody tr th {\n",
       "        vertical-align: top;\n",
       "    }\n",
       "\n",
       "    .dataframe thead th {\n",
       "        text-align: right;\n",
       "    }\n",
       "</style>\n",
       "<table border=\"1\" class=\"dataframe\">\n",
       "  <thead>\n",
       "    <tr style=\"text-align: right;\">\n",
       "      <th></th>\n",
       "      <th>Row ID</th>\n",
       "      <th>Order ID</th>\n",
       "      <th>Order Date</th>\n",
       "      <th>Ship Date</th>\n",
       "      <th>Ship Mode</th>\n",
       "      <th>Customer ID</th>\n",
       "      <th>Customer Name</th>\n",
       "      <th>Segment</th>\n",
       "      <th>Country</th>\n",
       "      <th>City</th>\n",
       "      <th>State</th>\n",
       "      <th>Postal Code</th>\n",
       "      <th>Region</th>\n",
       "      <th>Product ID</th>\n",
       "      <th>Category</th>\n",
       "      <th>Sub-Category</th>\n",
       "      <th>Product Name</th>\n",
       "      <th>Sales</th>\n",
       "    </tr>\n",
       "  </thead>\n",
       "  <tbody>\n",
       "  </tbody>\n",
       "</table>\n",
       "</div>"
      ],
      "text/plain": [
       "Empty DataFrame\n",
       "Columns: [Row ID, Order ID, Order Date, Ship Date, Ship Mode, Customer ID, Customer Name, Segment, Country, City, State, Postal Code, Region, Product ID, Category, Sub-Category, Product Name, Sales]\n",
       "Index: []"
      ]
     },
     "execution_count": 5,
     "metadata": {},
     "output_type": "execute_result"
    }
   ],
   "source": [
    "# Verificando se existe algum registro de Burlington, Vermont com Postal Code\n",
    "base[(base.City == 'Burlington') & (base.State == 'Vermont') & (base['Postal Code'].notnull())]"
   ]
  },
  {
   "cell_type": "markdown",
   "metadata": {
    "id": "CUj_EkK4_2wt"
   },
   "source": [
    "**Podemos ir diretamente no google para buscar essa informação**"
   ]
  },
  {
   "attachments": {
    "Criando%20uma%20apresentac%CC%A7a%CC%83o%20executiva.png": {
     "image/png": "[encoded data removed]"
    }
   },
   "cell_type": "markdown",
   "metadata": {
    "id": "8nWM3U35_2wu"
   },
   "source": [
    "![Criando%20uma%20apresentac%CC%A7a%CC%83o%20executiva.png](attachment:Criando%20uma%20apresentac%CC%A7a%CC%83o%20executiva.png)"
   ]
  },
  {
   "cell_type": "code",
   "execution_count": 6,
   "metadata": {
    "executionInfo": {
     "elapsed": 5,
     "status": "aborted",
     "timestamp": 1657135952314,
     "user": {
      "displayName": "Lucas Leal",
      "userId": "11399223107874428450"
     },
     "user_tz": 180
    },
    "id": "GH0QbTfG_2wu"
   },
   "outputs": [],
   "source": [
    "# Atualizando essa informação\n",
    "base.loc[(base.City == 'Burlington') & (base.State == 'Vermont') & (base['Postal Code'].isnull()),\"Postal Code\"] = 5401"
   ]
  },
  {
   "cell_type": "code",
   "execution_count": 7,
   "metadata": {
    "executionInfo": {
     "elapsed": 6,
     "status": "aborted",
     "timestamp": 1657135952315,
     "user": {
      "displayName": "Lucas Leal",
      "userId": "11399223107874428450"
     },
     "user_tz": 180
    },
    "id": "SK80QqCk_2wu"
   },
   "outputs": [
    {
     "name": "stdout",
     "output_type": "stream",
     "text": [
      "<class 'pandas.core.frame.DataFrame'>\n",
      "RangeIndex: 9800 entries, 0 to 9799\n",
      "Data columns (total 18 columns):\n",
      " #   Column         Non-Null Count  Dtype  \n",
      "---  ------         --------------  -----  \n",
      " 0   Row ID         9800 non-null   int64  \n",
      " 1   Order ID       9800 non-null   object \n",
      " 2   Order Date     9800 non-null   object \n",
      " 3   Ship Date      9800 non-null   object \n",
      " 4   Ship Mode      9800 non-null   object \n",
      " 5   Customer ID    9800 non-null   object \n",
      " 6   Customer Name  9800 non-null   object \n",
      " 7   Segment        9800 non-null   object \n",
      " 8   Country        9800 non-null   object \n",
      " 9   City           9800 non-null   object \n",
      " 10  State          9800 non-null   object \n",
      " 11  Postal Code    9800 non-null   float64\n",
      " 12  Region         9800 non-null   object \n",
      " 13  Product ID     9800 non-null   object \n",
      " 14  Category       9800 non-null   object \n",
      " 15  Sub-Category   9800 non-null   object \n",
      " 16  Product Name   9800 non-null   object \n",
      " 17  Sales          9800 non-null   float64\n",
      "dtypes: float64(2), int64(1), object(15)\n",
      "memory usage: 1.3+ MB\n"
     ]
    }
   ],
   "source": [
    "# Verificando se ainda existe algum valor nulo\n",
    "base.info()"
   ]
  },
  {
   "cell_type": "code",
   "execution_count": 8,
   "metadata": {
    "executionInfo": {
     "elapsed": 6,
     "status": "aborted",
     "timestamp": 1657135952315,
     "user": {
      "displayName": "Lucas Leal",
      "userId": "11399223107874428450"
     },
     "user_tz": 180
    },
    "id": "8lYaq4S0_2wv"
   },
   "outputs": [
    {
     "data": {
      "text/html": [
       "<div>\n",
       "<style scoped>\n",
       "    .dataframe tbody tr th:only-of-type {\n",
       "        vertical-align: middle;\n",
       "    }\n",
       "\n",
       "    .dataframe tbody tr th {\n",
       "        vertical-align: top;\n",
       "    }\n",
       "\n",
       "    .dataframe thead th {\n",
       "        text-align: right;\n",
       "    }\n",
       "</style>\n",
       "<table border=\"1\" class=\"dataframe\">\n",
       "  <thead>\n",
       "    <tr style=\"text-align: right;\">\n",
       "      <th></th>\n",
       "      <th>Row ID</th>\n",
       "      <th>Order ID</th>\n",
       "      <th>Order Date</th>\n",
       "      <th>Ship Date</th>\n",
       "      <th>Ship Mode</th>\n",
       "      <th>Customer ID</th>\n",
       "      <th>Customer Name</th>\n",
       "      <th>Segment</th>\n",
       "      <th>Country</th>\n",
       "      <th>City</th>\n",
       "      <th>State</th>\n",
       "      <th>Postal Code</th>\n",
       "      <th>Region</th>\n",
       "      <th>Product ID</th>\n",
       "      <th>Category</th>\n",
       "      <th>Sub-Category</th>\n",
       "      <th>Product Name</th>\n",
       "      <th>Sales</th>\n",
       "    </tr>\n",
       "  </thead>\n",
       "  <tbody>\n",
       "  </tbody>\n",
       "</table>\n",
       "</div>"
      ],
      "text/plain": [
       "Empty DataFrame\n",
       "Columns: [Row ID, Order ID, Order Date, Ship Date, Ship Mode, Customer ID, Customer Name, Segment, Country, City, State, Postal Code, Region, Product ID, Category, Sub-Category, Product Name, Sales]\n",
       "Index: []"
      ]
     },
     "execution_count": 8,
     "metadata": {},
     "output_type": "execute_result"
    }
   ],
   "source": [
    "# Visualizando novamente as informações da base\n",
    "base.loc[(base.City == 'Burlington') & (base.State == 'Vermont') & (base['Postal Code'].isnull())]"
   ]
  },
  {
   "cell_type": "markdown",
   "metadata": {
    "id": "HvZlmhx__2wv"
   },
   "source": [
    "### 3. <font color=\"blue\"> Como foi a venda nesse período? </font>\n",
    "Aqui temos 2 questões que precisamos pensar:\n",
    "- **Quais <font color=\"blue\">colunas</font> vamos usar?**\n",
    "    - Podemos verificar a venda na coluna \"Sales\"\"\n",
    "    - O período nós podemos usar a coluna \"Order Date\", mas precisamos entender melhor essa coluna\n",
    "- **Qual o <font color=\"blue\">período</font> queremos exibir?**"
   ]
  },
  {
   "cell_type": "code",
   "execution_count": 9,
   "metadata": {
    "executionInfo": {
     "elapsed": 6,
     "status": "aborted",
     "timestamp": 1657135952315,
     "user": {
      "displayName": "Lucas Leal",
      "userId": "11399223107874428450"
     },
     "user_tz": 180
    },
    "id": "5f8xvYEI_2wy"
   },
   "outputs": [
    {
     "data": {
      "text/plain": [
       "'01/01/2018'"
      ]
     },
     "execution_count": 9,
     "metadata": {},
     "output_type": "execute_result"
    }
   ],
   "source": [
    "# Para entender a data, podemos ver de qual período estamos falando\n",
    "base['Order Date'].min()"
   ]
  },
  {
   "cell_type": "markdown",
   "metadata": {
    "id": "PNQpLnB8_2wy"
   },
   "source": [
    "**<font color=\"red\">CUIDADO:</font> Se a coluna de data estiver como texto e não como data, a ordenação vai ser pelo texto e não pela data!**"
   ]
  },
  {
   "cell_type": "markdown",
   "metadata": {
    "id": "d-BVxyUf_2wy"
   },
   "source": [
    "**Podemos converter uma coluna para data usando o to_datetime do pandas**\n",
    "<br><br>\n",
    "base[\"coluna\"] = pd.**to_datetime(**base[\"coluna\"]**)**\n",
    "- No datetime, caso tenha apenas a data, a hora ficaria como 00:00:00\n",
    "- Se quisermos considerar apenas a data, podemos usar o **.date** da biblioteca **datetime**"
   ]
  },
  {
   "cell_type": "code",
   "execution_count": 10,
   "metadata": {
    "executionInfo": {
     "elapsed": 6,
     "status": "aborted",
     "timestamp": 1657135952315,
     "user": {
      "displayName": "Lucas Leal",
      "userId": "11399223107874428450"
     },
     "user_tz": 180
    },
    "id": "pnQB9UBn_2wz"
   },
   "outputs": [],
   "source": [
    "import datetime as dt"
   ]
  },
  {
   "cell_type": "code",
   "execution_count": 11,
   "metadata": {
    "executionInfo": {
     "elapsed": 6,
     "status": "aborted",
     "timestamp": 1657135952315,
     "user": {
      "displayName": "Lucas Leal",
      "userId": "11399223107874428450"
     },
     "user_tz": 180
    },
    "id": "i3Uxc3na_2wz"
   },
   "outputs": [],
   "source": [
    "# Convertendo as colunas de data para datetime\n",
    "base[\"Order Date\"] = pd.to_datetime(base[\"Order Date\"],format='%d/%m/%Y')\n",
    "base[\"Ship Date\"] = pd.to_datetime(base[\"Ship Date\"],format='%d/%m/%Y')"
   ]
  },
  {
   "cell_type": "code",
   "execution_count": 12,
   "metadata": {
    "executionInfo": {
     "elapsed": 7,
     "status": "aborted",
     "timestamp": 1657135952316,
     "user": {
      "displayName": "Lucas Leal",
      "userId": "11399223107874428450"
     },
     "user_tz": 180
    },
    "id": "ian2Fhtr_2wz"
   },
   "outputs": [
    {
     "data": {
      "text/plain": [
       "Timestamp('2015-01-03 00:00:00')"
      ]
     },
     "execution_count": 12,
     "metadata": {},
     "output_type": "execute_result"
    }
   ],
   "source": [
    "# Para entender a data, podemos ver de qual período estamos falando\n",
    "base['Order Date'].min()"
   ]
  },
  {
   "cell_type": "code",
   "execution_count": 13,
   "metadata": {
    "executionInfo": {
     "elapsed": 7,
     "status": "aborted",
     "timestamp": 1657135952316,
     "user": {
      "displayName": "Lucas Leal",
      "userId": "11399223107874428450"
     },
     "user_tz": 180
    },
    "id": "fUFVYAnd_2wz"
   },
   "outputs": [
    {
     "data": {
      "text/plain": [
       "Timestamp('2018-12-30 00:00:00')"
      ]
     },
     "execution_count": 13,
     "metadata": {},
     "output_type": "execute_result"
    }
   ],
   "source": [
    "# Buscando o máximo da data\n",
    "base['Order Date'].max()"
   ]
  },
  {
   "cell_type": "markdown",
   "metadata": {
    "id": "XGmJxliG_2wz"
   },
   "source": [
    "- Estamos falando de 4 anos de análise, começando em jan/2015 e indo até dez/2018"
   ]
  },
  {
   "cell_type": "markdown",
   "metadata": {
    "id": "RuTmpzYm_2w0"
   },
   "source": [
    "#### Como estamos falando de um período grande de anos, podemos começar a visualização pelos anos\n",
    "- Para isso, podemos usar o **.year** da biblioteca datetime para criar uma nova coluna apenas com o ano dessa base"
   ]
  },
  {
   "cell_type": "markdown",
   "metadata": {
    "id": "zFuM2BG7_2w0"
   },
   "source": [
    "# Venda por ano"
   ]
  },
  {
   "cell_type": "code",
   "execution_count": 14,
   "metadata": {
    "colab": {
     "base_uri": "https://localhost:8080/",
     "height": 184
    },
    "executionInfo": {
     "elapsed": 3,
     "status": "error",
     "timestamp": 1657135953693,
     "user": {
      "displayName": "Lucas Leal",
      "userId": "11399223107874428450"
     },
     "user_tz": 180
    },
    "id": "wRMSzcYo_2w0",
    "outputId": "f877f9f2-95ca-4ad5-a7c8-c1dff0980421"
   },
   "outputs": [],
   "source": [
    "# Criando uma coluna com o ano\n",
    "base['Ano'] = base['Order Date'].dt.year"
   ]
  },
  {
   "cell_type": "markdown",
   "metadata": {
    "id": "xZfZeuOE_2w0"
   },
   "source": [
    "#### Lembram do groupby()?"
   ]
  },
  {
   "cell_type": "code",
   "execution_count": 15,
   "metadata": {
    "colab": {
     "base_uri": "https://localhost:8080/",
     "height": 184
    },
    "executionInfo": {
     "elapsed": 2,
     "status": "error",
     "timestamp": 1657135954038,
     "user": {
      "displayName": "Lucas Leal",
      "userId": "11399223107874428450"
     },
     "user_tz": 180
    },
    "id": "KPp7GmcP_2w0",
    "outputId": "401a1482-0e9a-43c5-a040-bdbb7ceb0e22"
   },
   "outputs": [
    {
     "data": {
      "image/png": "[encoded data removed]",
      "text/plain": [
       "<Figure size 432x288 with 1 Axes>"
      ]
     },
     "metadata": {
      "needs_background": "light"
     },
     "output_type": "display_data"
    }
   ],
   "source": [
    "# Usando essa coluna no group by e criando um plot de barras\n",
    "base.groupby(\"Ano\")[\"Sales\"].sum().plot.bar();"
   ]
  },
  {
   "cell_type": "markdown",
   "metadata": {
    "id": "oW5-LwgU_2w0"
   },
   "source": [
    "## Melhorando o visual desse gráfico\n",
    "- Como já vimos no último tópico, podemos melhorar muito a visualização desse gráfico. Vamos fazer isso!\n",
    "- Primeiramente vamos traçar um gráfico usando o que aprendemos de matplotlib\n",
    "    - https://matplotlib.org/stable/plot_types/basic/plot.html#sphx-glr-plot-types-basic-plot-py\n",
    "    - Sugestão de cor: `#84ba5b`"
   ]
  },
  {
   "cell_type": "code",
   "execution_count": 16,
   "metadata": {
    "executionInfo": {
     "elapsed": 2,
     "status": "ok",
     "timestamp": 1657135954318,
     "user": {
      "displayName": "Lucas Leal",
      "userId": "11399223107874428450"
     },
     "user_tz": 180
    },
    "id": "irRx0dno_2w0"
   },
   "outputs": [],
   "source": [
    "import matplotlib.pyplot as plt\n",
    "import numpy as np"
   ]
  },
  {
   "cell_type": "code",
   "execution_count": 17,
   "metadata": {
    "colab": {
     "base_uri": "https://localhost:8080/",
     "height": 265
    },
    "executionInfo": {
     "elapsed": 410,
     "status": "ok",
     "timestamp": 1657135955860,
     "user": {
      "displayName": "Lucas Leal",
      "userId": "11399223107874428450"
     },
     "user_tz": 180
    },
    "id": "U15y0wdA_2w0",
    "outputId": "c06a5c2e-717d-4f62-c900-6973c721b502"
   },
   "outputs": [
    {
     "data": {
      "image/png": "[encoded data removed]",
      "text/plain": [
       "<Figure size 432x288 with 1 Axes>"
      ]
     },
     "metadata": {
      "needs_background": "light"
     },
     "output_type": "display_data"
    }
   ],
   "source": [
    "# make data\n",
    "x = np.linspace(0, 10, 100)\n",
    "y = 4 + 2 * np.sin(2 * x)\n",
    "\n",
    "# plot\n",
    "fig, ax = plt.subplots()\n",
    "\n",
    "ax.plot(x, y, linewidth=2.0)\n",
    "\n",
    "ax.set(xlim=(0, 8), xticks=np.arange(1, 8),\n",
    "       ylim=(0, 8), yticks=np.arange(1, 8))\n",
    "\n",
    "plt.show()"
   ]
  },
  {
   "cell_type": "code",
   "execution_count": 18,
   "metadata": {
    "id": "7eBts6En_2w1",
    "outputId": "ea1b14a3-dad5-43a5-d93b-dd402fe979aa"
   },
   "outputs": [
    {
     "data": {
      "image/png": "[encoded data removed]",
      "text/plain": [
       "<Figure size 576x360 with 1 Axes>"
      ]
     },
     "metadata": {
      "needs_background": "light"
     },
     "output_type": "display_data"
    }
   ],
   "source": [
    "# Criando um gráfico com o matplotlib usando o groupby\n",
    "fig, ax = plt.subplots(figsize=(8,5)) # Tamanho da figura\n",
    "\n",
    "soma_ano = base.groupby(\"Ano\")[\"Sales\"].sum()\n",
    "\n",
    "ax.bar(soma_ano.index, soma_ano.values, linewidth=2.0, color='#84ba5b')\n",
    "\n",
    "plt.show()"
   ]
  },
  {
   "cell_type": "markdown",
   "metadata": {
    "id": "rn673Fku_2w1"
   },
   "source": [
    "**Adicionando o título e melhorando os textos do eixo**\n",
    "- Vamos adicionar o título e melhorar o eixo x\n",
    "    - O `.set_title` vai permitir colocar título e ajustar os parâmetros desse títulos\n",
    "        - fontsize: Tamanho da fonte\n",
    "        - fontweight: Espessura da fonte\n",
    "        - color: Cor da fonte\n",
    "    - O `xaxis.set_ticks` vai definir os valores mostrados no eixo x\n",
    "    - O `.tick_params(axis='x')` vai ajustar o parâmetro do eixo x\n",
    "        - labelsize: tamanho do label"
   ]
  },
  {
   "cell_type": "code",
   "execution_count": 19,
   "metadata": {
    "id": "QAG4cxlN_2w1",
    "outputId": "1e5d199a-a3e9-4b30-c0ff-a75dcbc3e6b6"
   },
   "outputs": [
    {
     "data": {
      "image/png": "[encoded data removed]",
      "text/plain": [
       "<Figure size 648x288 with 1 Axes>"
      ]
     },
     "metadata": {
      "needs_background": "light"
     },
     "output_type": "display_data"
    }
   ],
   "source": [
    "fig,ax = plt.subplots(\n",
    "            figsize = (9,4) # Tamanho da figura\n",
    "        )\n",
    "\n",
    "soma_ano = base.groupby(\"Ano\")[\"Sales\"].sum() # Valores que vamos usar para criar o nosso gráfico\n",
    "\n",
    "ax.set_title(\"VENDAS POR ANO\",\n",
    "            fontsize=20,\n",
    "            fontweight=\"bold\",\n",
    "            color=\"#84ba5b\"\n",
    "            )\n",
    "\n",
    "ax.bar(soma_ano.index,soma_ano.values,\n",
    "       color=\"#84ba5b\" # Cor das barras\n",
    "      )\n",
    "\n",
    "ax.xaxis.set_ticks([2015,2016,2017,2018])\n",
    "ax.tick_params(axis='x',labelsize=12)\n",
    "\n",
    "plt.show()"
   ]
  },
  {
   "cell_type": "markdown",
   "metadata": {
    "id": "uyH_BCTO_2w1"
   },
   "source": [
    "**Adicionando o rótulo de dados**\n",
    "- Para adicionar rótulo de dados, vamos usar o `.annotate` como vimos na última aula"
   ]
  },
  {
   "cell_type": "code",
   "execution_count": 20,
   "metadata": {
    "id": "edrZLDEc_2w1",
    "outputId": "003eb7dc-9767-4f9e-c9b1-595893a7cd58"
   },
   "outputs": [
    {
     "data": {
      "image/png": "[encoded data removed]",
      "text/plain": [
       "<Figure size 648x288 with 1 Axes>"
      ]
     },
     "metadata": {
      "needs_background": "light"
     },
     "output_type": "display_data"
    }
   ],
   "source": [
    "fig,ax = plt.subplots(\n",
    "            figsize = (9,4) # Tamanho da figura\n",
    "        )\n",
    "\n",
    "soma_ano = base.groupby(\"Ano\")[\"Sales\"].sum() # Valores que vamos usar para criar o nosso gráfico\n",
    "\n",
    "ax.bar(soma_ano.index,soma_ano.values,\n",
    "       color=\"#84ba5b\" # Cor das barras\n",
    "      )\n",
    "\n",
    "ax.set_title(\"VENDAS POR ANO\", # Título do gráfico\n",
    "             fontsize=20, # Tamanho da fonte\n",
    "             fontweight='bold', # Espessura da fonte\n",
    "             color='#00b247' # Cor da fonte\n",
    "            )\n",
    "\n",
    "ax.xaxis.set_ticks([2015,2016,2017,2018]) # Ajustando os valores de x\n",
    "ax.tick_params(axis='x',labelsize=14) # Melhorando o visual do eixo x\n",
    "\n",
    "for i in range(0,4):\n",
    "    ax.annotate('{:,.0f}'.format(soma_ano.values[i]).replace(',','.'), # Texto do annotate\n",
    "                (soma_ano.index[i],soma_ano.values[i]), # Posição (x,y)\n",
    "                ha=\"center\",\n",
    "                xytext=(0,5),\n",
    "                textcoords=\"offset points\",\n",
    "                fontsize=12,\n",
    "                color=\"green\",\n",
    "                fontweight=\"bold\"\n",
    "               )\n",
    "\n",
    "plt.show()"
   ]
  },
  {
   "cell_type": "markdown",
   "metadata": {
    "id": "dJHyl6pT_2w2"
   },
   "source": [
    "**Melhorando a visualização do gráfico**\n",
    "- Para o eixo y, podemos fazer igual fizemos para o eixo x\n",
    "    - Com o `.set_yticks` vamos ajustar os valores do eixo y\n",
    "    - O `.yaxis.set_visible(False)` permite retirar os valores do eixo y, tornando nosso visual mais claro\n",
    "- Já para retirar as bordas do gráfico, basta usar o `.spines['top'].set_visible(False)`"
   ]
  },
  {
   "cell_type": "code",
   "execution_count": 21,
   "metadata": {
    "id": "H0nD8IJ5_2w2",
    "outputId": "e9d4163b-2640-4faf-c110-1c6b159d2cc9"
   },
   "outputs": [
    {
     "data": {
      "image/png": "[encoded data removed]",
      "text/plain": [
       "<Figure size 648x288 with 1 Axes>"
      ]
     },
     "metadata": {
      "needs_background": "light"
     },
     "output_type": "display_data"
    }
   ],
   "source": [
    "fig,ax = plt.subplots(\n",
    "            figsize = (9,4) # Tamanho da figura\n",
    "        )\n",
    "\n",
    "soma_ano = base.groupby(\"Ano\")[\"Sales\"].sum() # Valores que vamos usar para criar o nosso gráfico\n",
    "\n",
    "ax.bar(soma_ano.index,soma_ano.values,\n",
    "       color=\"#84ba5b\" # Cor das barras\n",
    "      )\n",
    "\n",
    "ax.set_title(\"VENDAS POR ANO\", # Título do gráfico\n",
    "             fontsize=20, # Tamanho da fonte\n",
    "             fontweight='bold', # Espessura da fonte\n",
    "             color='#00b247' # Cor da fonte\n",
    "            )\n",
    "\n",
    "ax.xaxis.set_ticks([2015,2016,2017,2018]) # Ajustando os valores de x\n",
    "ax.tick_params(axis='x',labelsize=14) # Melhorando o visual do eixo x\n",
    "\n",
    "# O Annotate é quem vai permitir que a gente coloque rótulo nos dados\n",
    "for i in np.arange(0,4):\n",
    "    ax.annotate('{:,.0f}'.format(soma_ano.values[i]).replace(',', '.'), # Valores que vão ser mostrados como rótulos, já formatados\n",
    "                (soma_ano.index[i],soma_ano.values[i]), # Posição (x,y que esses valores vão estar)\n",
    "                ha=\"center\",  # Alinhamento horizontal do texto\n",
    "                va=\"top\", # Alinhamento vertical do texto\n",
    "                xytext=(0,+15), # Deslocamento em relação ao ponto que o texto estaria\n",
    "                textcoords=\"offset points\",  # Sistema de coordenadas que o xytext vai ter como referência (nesse caso será em pontos, não em pixels)\n",
    "                fontsize=14, # Tamanho da fonte dos rótulos\n",
    "                fontweight='bold', # Espessura da fonte dos rótulos\n",
    "                color=\"green\" # Cor dos rótulos\n",
    "            )\n",
    "\n",
    "ax.set_yticks([0,780000])\n",
    "ax.yaxis.set_visible(False)\n",
    "ax.spines['top'].set_visible(False)\n",
    "ax.spines['left'].set_visible(False)\n",
    "ax.spines['right'].set_visible(False)\n",
    "    \n",
    "plt.show()"
   ]
  },
  {
   "cell_type": "markdown",
   "metadata": {
    "id": "nype0Jh4_2w2"
   },
   "source": [
    "**Como resultado final, teremos o gráfico abaixo**"
   ]
  },
  {
   "cell_type": "code",
   "execution_count": 22,
   "metadata": {
    "id": "0Eu_TGg5_2w2",
    "outputId": "d1fda6fd-0678-4c22-9ccd-b5c115d208b0"
   },
   "outputs": [
    {
     "data": {
      "image/png": "[encoded data removed]",
      "text/plain": [
       "<Figure size 648x288 with 1 Axes>"
      ]
     },
     "metadata": {
      "needs_background": "light"
     },
     "output_type": "display_data"
    }
   ],
   "source": [
    "fig,ax = plt.subplots(\n",
    "            figsize = (9,4) # Tamanho da figura\n",
    "        )\n",
    "\n",
    "soma_ano = base.groupby(\"Ano\")[\"Sales\"].sum() # Valores que vamos usar para criar o nosso gráfico\n",
    "\n",
    "ax.bar(soma_ano.index,soma_ano.values,\n",
    "       color=\"#84ba5b\" # Cor das barras\n",
    "      )\n",
    "\n",
    "ax.set_title(\"VENDAS POR ANO\", # Título do gráfico\n",
    "             fontsize=20, # Tamanho da fonte\n",
    "             fontweight='bold', # Espessura da fonte\n",
    "             color='#00b247' # Cor da fonte\n",
    "            )\n",
    "\n",
    "ax.xaxis.set_ticks([2015,2016,2017,2018]) # Ajustando os valores de x\n",
    "ax.tick_params(axis='x',labelsize=14) # Melhorando o visual do eixo x\n",
    "\n",
    "# O Annotate é quem vai permitir que a gente coloque rótulo nos dados\n",
    "for i in np.arange(0,4):\n",
    "    ax.annotate('{:,.0f}'.format(soma_ano.values[i]).replace(',', '.'), # Valores que vão ser mostrados como rótulos, já formatados\n",
    "                (soma_ano.index[i],soma_ano.values[i]), # Posição (x,y que esses valores vão estar)\n",
    "                ha=\"center\",  # Alinhamento horizontal do texto\n",
    "                va=\"top\", # Alinhamento vertical do texto\n",
    "                xytext=(0,+15), # Deslocamento em relação ao ponto que o texto estaria\n",
    "                textcoords=\"offset points\",  # Sistema de coordenadas que o xytext vai ter como referência (nesse caso será em pontos, não em pixels)\n",
    "                fontsize=14, # Tamanho da fonte dos rótulos\n",
    "                fontweight='bold', # Espessura da fonte dos rótulos\n",
    "                color=\"green\" # Cor dos rótulos\n",
    "            )\n",
    "    \n",
    "ax.set_yticks(np.array([0,790000])) # Diminuindo o tamanho das barras para não cortar o rótulo\n",
    "ax.yaxis.set_visible(False) # Retirando os valores do eixo y\n",
    "\n",
    "ax.spines['top'].set_visible(False) # Retirando os traços do gráfico\n",
    "ax.spines['left'].set_visible(False)\n",
    "ax.spines['right'].set_visible(False)\n",
    "\n",
    "plt.show()"
   ]
  },
  {
   "cell_type": "markdown",
   "metadata": {
    "id": "BGx1JKbJ_2w2"
   },
   "source": [
    "# Venda por mês"
   ]
  },
  {
   "cell_type": "markdown",
   "metadata": {
    "id": "otpFR_3L_2w2"
   },
   "source": [
    "#### Também podemos mostrar essa visão por meses\n",
    "- Para isso, podemos usar o **.month** da biblioteca datetime para criar uma nova coluna apenas com o mês dessa base"
   ]
  },
  {
   "cell_type": "code",
   "execution_count": 23,
   "metadata": {
    "id": "ueOUCCSU_2w3"
   },
   "outputs": [],
   "source": [
    "# Criando uma coluna com o mês\n",
    "base['Mes'] = base['Order Date'].dt.month"
   ]
  },
  {
   "cell_type": "code",
   "execution_count": 24,
   "metadata": {
    "id": "yyAyznUC_2w3",
    "outputId": "4e0b8aa3-62bd-4cc3-b213-a4c606a72411"
   },
   "outputs": [
    {
     "data": {
      "text/html": [
       "<div>\n",
       "<style scoped>\n",
       "    .dataframe tbody tr th:only-of-type {\n",
       "        vertical-align: middle;\n",
       "    }\n",
       "\n",
       "    .dataframe tbody tr th {\n",
       "        vertical-align: top;\n",
       "    }\n",
       "\n",
       "    .dataframe thead th {\n",
       "        text-align: right;\n",
       "    }\n",
       "</style>\n",
       "<table border=\"1\" class=\"dataframe\">\n",
       "  <thead>\n",
       "    <tr style=\"text-align: right;\">\n",
       "      <th></th>\n",
       "      <th>Row ID</th>\n",
       "      <th>Order ID</th>\n",
       "      <th>Order Date</th>\n",
       "      <th>Ship Date</th>\n",
       "      <th>Ship Mode</th>\n",
       "      <th>Customer ID</th>\n",
       "      <th>Customer Name</th>\n",
       "      <th>Segment</th>\n",
       "      <th>Country</th>\n",
       "      <th>City</th>\n",
       "      <th>State</th>\n",
       "      <th>Postal Code</th>\n",
       "      <th>Region</th>\n",
       "      <th>Product ID</th>\n",
       "      <th>Category</th>\n",
       "      <th>Sub-Category</th>\n",
       "      <th>Product Name</th>\n",
       "      <th>Sales</th>\n",
       "      <th>Ano</th>\n",
       "      <th>Mes</th>\n",
       "    </tr>\n",
       "  </thead>\n",
       "  <tbody>\n",
       "    <tr>\n",
       "      <th>0</th>\n",
       "      <td>1</td>\n",
       "      <td>CA-2017-152156</td>\n",
       "      <td>2017-11-08</td>\n",
       "      <td>2017-11-11</td>\n",
       "      <td>Second Class</td>\n",
       "      <td>CG-12520</td>\n",
       "      <td>Claire Gute</td>\n",
       "      <td>Consumer</td>\n",
       "      <td>United States</td>\n",
       "      <td>Henderson</td>\n",
       "      <td>Kentucky</td>\n",
       "      <td>42420.0</td>\n",
       "      <td>South</td>\n",
       "      <td>FUR-BO-10001798</td>\n",
       "      <td>Furniture</td>\n",
       "      <td>Bookcases</td>\n",
       "      <td>Bush Somerset Collection Bookcase</td>\n",
       "      <td>261.96</td>\n",
       "      <td>2017</td>\n",
       "      <td>11</td>\n",
       "    </tr>\n",
       "    <tr>\n",
       "      <th>1</th>\n",
       "      <td>2</td>\n",
       "      <td>CA-2017-152156</td>\n",
       "      <td>2017-11-08</td>\n",
       "      <td>2017-11-11</td>\n",
       "      <td>Second Class</td>\n",
       "      <td>CG-12520</td>\n",
       "      <td>Claire Gute</td>\n",
       "      <td>Consumer</td>\n",
       "      <td>United States</td>\n",
       "      <td>Henderson</td>\n",
       "      <td>Kentucky</td>\n",
       "      <td>42420.0</td>\n",
       "      <td>South</td>\n",
       "      <td>FUR-CH-10000454</td>\n",
       "      <td>Furniture</td>\n",
       "      <td>Chairs</td>\n",
       "      <td>Hon Deluxe Fabric Upholstered Stacking Chairs,...</td>\n",
       "      <td>731.94</td>\n",
       "      <td>2017</td>\n",
       "      <td>11</td>\n",
       "    </tr>\n",
       "  </tbody>\n",
       "</table>\n",
       "</div>"
      ],
      "text/plain": [
       "   Row ID        Order ID Order Date  Ship Date     Ship Mode Customer ID  \\\n",
       "0       1  CA-2017-152156 2017-11-08 2017-11-11  Second Class    CG-12520   \n",
       "1       2  CA-2017-152156 2017-11-08 2017-11-11  Second Class    CG-12520   \n",
       "\n",
       "  Customer Name   Segment        Country       City     State  Postal Code  \\\n",
       "0   Claire Gute  Consumer  United States  Henderson  Kentucky      42420.0   \n",
       "1   Claire Gute  Consumer  United States  Henderson  Kentucky      42420.0   \n",
       "\n",
       "  Region       Product ID   Category Sub-Category  \\\n",
       "0  South  FUR-BO-10001798  Furniture    Bookcases   \n",
       "1  South  FUR-CH-10000454  Furniture       Chairs   \n",
       "\n",
       "                                        Product Name   Sales   Ano  Mes  \n",
       "0                  Bush Somerset Collection Bookcase  261.96  2017   11  \n",
       "1  Hon Deluxe Fabric Upholstered Stacking Chairs,...  731.94  2017   11  "
      ]
     },
     "execution_count": 24,
     "metadata": {},
     "output_type": "execute_result"
    }
   ],
   "source": [
    "base.head(2)"
   ]
  },
  {
   "cell_type": "code",
   "execution_count": 25,
   "metadata": {
    "id": "wn44IxXQ_2w3"
   },
   "outputs": [],
   "source": [
    "# Fazendo o groupby agora por mês e ano\n",
    "soma_mes = base.groupby([\"Mes\",\"Ano\"])[\"Sales\"].sum()"
   ]
  },
  {
   "cell_type": "code",
   "execution_count": 26,
   "metadata": {
    "id": "IUsdAFhJ_2w3",
    "outputId": "c92f3c73-d258-4845-da39-896a5d7da3b4"
   },
   "outputs": [
    {
     "data": {
      "text/plain": [
       "Mes  Ano \n",
       "1    2015    14205.7070\n",
       "     2016    18066.9576\n",
       "     2017    18542.4910\n",
       "     2018    43476.4740\n",
       "2    2015     4519.8920\n",
       "Name: Sales, dtype: float64"
      ]
     },
     "execution_count": 26,
     "metadata": {},
     "output_type": "execute_result"
    }
   ],
   "source": [
    "# Verificando os valores gerados\n",
    "soma_mes.head()"
   ]
  },
  {
   "cell_type": "markdown",
   "metadata": {
    "id": "lkIf1qZW_2w3"
   },
   "source": [
    "**Com o <font color=\"blue\">.reset_index()</font> conseguimos transformar os índices em colunas e então aplicar todas as propriedades que conhecemos para o DataFrame**"
   ]
  },
  {
   "cell_type": "code",
   "execution_count": 27,
   "metadata": {
    "id": "nVh62hkV_2w3"
   },
   "outputs": [],
   "source": [
    "# Vamos transformar os índices em colunas\n",
    "soma_mes = soma_mes.reset_index()"
   ]
  },
  {
   "cell_type": "code",
   "execution_count": 28,
   "metadata": {
    "id": "nI0R6KJV_2w3",
    "outputId": "30cef895-88ff-4f30-f837-4d709f34f8b8"
   },
   "outputs": [
    {
     "data": {
      "text/html": [
       "<div>\n",
       "<style scoped>\n",
       "    .dataframe tbody tr th:only-of-type {\n",
       "        vertical-align: middle;\n",
       "    }\n",
       "\n",
       "    .dataframe tbody tr th {\n",
       "        vertical-align: top;\n",
       "    }\n",
       "\n",
       "    .dataframe thead th {\n",
       "        text-align: right;\n",
       "    }\n",
       "</style>\n",
       "<table border=\"1\" class=\"dataframe\">\n",
       "  <thead>\n",
       "    <tr style=\"text-align: right;\">\n",
       "      <th></th>\n",
       "      <th>Mes</th>\n",
       "      <th>Ano</th>\n",
       "      <th>Sales</th>\n",
       "    </tr>\n",
       "  </thead>\n",
       "  <tbody>\n",
       "    <tr>\n",
       "      <th>0</th>\n",
       "      <td>1</td>\n",
       "      <td>2015</td>\n",
       "      <td>14205.7070</td>\n",
       "    </tr>\n",
       "    <tr>\n",
       "      <th>1</th>\n",
       "      <td>1</td>\n",
       "      <td>2016</td>\n",
       "      <td>18066.9576</td>\n",
       "    </tr>\n",
       "    <tr>\n",
       "      <th>2</th>\n",
       "      <td>1</td>\n",
       "      <td>2017</td>\n",
       "      <td>18542.4910</td>\n",
       "    </tr>\n",
       "    <tr>\n",
       "      <th>3</th>\n",
       "      <td>1</td>\n",
       "      <td>2018</td>\n",
       "      <td>43476.4740</td>\n",
       "    </tr>\n",
       "    <tr>\n",
       "      <th>4</th>\n",
       "      <td>2</td>\n",
       "      <td>2015</td>\n",
       "      <td>4519.8920</td>\n",
       "    </tr>\n",
       "  </tbody>\n",
       "</table>\n",
       "</div>"
      ],
      "text/plain": [
       "   Mes   Ano       Sales\n",
       "0    1  2015  14205.7070\n",
       "1    1  2016  18066.9576\n",
       "2    1  2017  18542.4910\n",
       "3    1  2018  43476.4740\n",
       "4    2  2015   4519.8920"
      ]
     },
     "execution_count": 28,
     "metadata": {},
     "output_type": "execute_result"
    }
   ],
   "source": [
    "# Visualizando a base novamente\n",
    "soma_mes.head()"
   ]
  },
  {
   "cell_type": "code",
   "execution_count": 29,
   "metadata": {
    "id": "ihoHQt7l_2w3",
    "outputId": "86b482ab-cf0b-4583-873c-8ca62888cff2"
   },
   "outputs": [
    {
     "data": {
      "text/plain": [
       "array([14205.707 ,  4519.892 , 55205.797 , 27906.855 , 23644.303 ,\n",
       "       34322.9356, 33781.543 , 27117.5365, 81623.5268, 31453.393 ,\n",
       "       77907.6607, 68167.0585])"
      ]
     },
     "execution_count": 29,
     "metadata": {},
     "output_type": "execute_result"
    }
   ],
   "source": [
    "soma_mes[soma_mes.Ano == 2015].Sales.values"
   ]
  },
  {
   "cell_type": "markdown",
   "metadata": {
    "id": "9rLHGRlC_2w3"
   },
   "source": [
    "**Vamos usar o gráfico que fizemos na aula anterior para ir criando esse gráfico**"
   ]
  },
  {
   "cell_type": "code",
   "execution_count": 30,
   "metadata": {
    "id": "ctC9HtXY_2w4",
    "outputId": "be3f5c22-836b-40df-a3f9-bdd5f49a97d2"
   },
   "outputs": [
    {
     "data": {
      "image/png": "[encoded data removed]",
      "text/plain": [
       "<Figure size 648x288 with 1 Axes>"
      ]
     },
     "metadata": {
      "needs_background": "light"
     },
     "output_type": "display_data"
    }
   ],
   "source": [
    "# Criando o gráfico de mês com o matplotlib\n",
    "fig,ax = plt.subplots(\n",
    "            figsize = (9,4) # Tamanho da figura\n",
    "        )\n",
    "\n",
    "ax.bar(soma_mes[soma_mes.Ano == 2015].Mes.values,soma_mes[soma_mes.Ano == 2015].Sales.values,\n",
    "       color=\"#84ba5b\" # Cor das barras\n",
    "      )\n",
    "\n",
    "plt.show()"
   ]
  },
  {
   "cell_type": "markdown",
   "metadata": {
    "id": "bh2-lwId_2w4"
   },
   "source": [
    "**Agora vamos adicionar a barra do ano de 2016**\n",
    "- Vamos adicionar um gráfico de barras com os dados de 2016"
   ]
  },
  {
   "cell_type": "code",
   "execution_count": 31,
   "metadata": {
    "id": "3Ow7C8X0_2w4",
    "outputId": "ccce57d6-c826-49b8-c9b1-adadfc80e90a"
   },
   "outputs": [
    {
     "data": {
      "image/png": "[encoded data removed]",
      "text/plain": [
       "<Figure size 648x288 with 1 Axes>"
      ]
     },
     "metadata": {
      "needs_background": "light"
     },
     "output_type": "display_data"
    }
   ],
   "source": [
    "fig,ax = plt.subplots(\n",
    "            figsize = (9,4) # Tamanho da figura\n",
    "        )\n",
    "\n",
    "ax.bar(soma_mes[soma_mes.Ano == 2015].Mes.values,soma_mes[soma_mes.Ano == 2015].Sales.values,\n",
    "       color=\"#00c698\", # Cor das barras\n",
    "       label=2015 # Label dos dados\n",
    "      )\n",
    "ax.bar(soma_mes[soma_mes.Ano == 2016].Mes.values,soma_mes[soma_mes.Ano == 2016].Sales.values,\n",
    "       color='red', # Cor das barras\n",
    "       label=2015 # Label dos dados\n",
    "      )\n",
    "\n",
    "plt.show()"
   ]
  },
  {
   "cell_type": "markdown",
   "metadata": {
    "id": "JB7XjXgx_2w4"
   },
   "source": [
    "**E então, deslocar as barras**\n",
    "- Para isso, vamos usar o mesmo raciocínio do width que usamos na aula anterior\n",
    "    - Para diferenciar os dados, também podemos usar o `label` para informar qual é cada um dos gráficos"
   ]
  },
  {
   "cell_type": "code",
   "execution_count": 32,
   "metadata": {
    "id": "VVwNxQVE_2w4",
    "outputId": "8dd8e5df-9754-441a-e170-c7a3ad2257a8"
   },
   "outputs": [
    {
     "data": {
      "image/png": "[encoded data removed]",
      "text/plain": [
       "<Figure size 648x288 with 1 Axes>"
      ]
     },
     "metadata": {
      "needs_background": "light"
     },
     "output_type": "display_data"
    }
   ],
   "source": [
    "fig,ax = plt.subplots(\n",
    "            figsize = (9,4) # Tamanho da figura\n",
    "        )\n",
    "\n",
    "wid=0.2\n",
    "\n",
    "ax.bar(soma_mes[soma_mes.Ano == 2015].Mes.values-wid/2,\n",
    "       soma_mes[soma_mes.Ano == 2015].Sales.values,\n",
    "       color=\"#00c698\",\n",
    "       width=wid\n",
    "      )\n",
    "ax.bar(soma_mes[soma_mes.Ano == 2016].Mes.values+wid/2, \n",
    "       soma_mes[soma_mes.Ano == 2016].Sales.values,\n",
    "       color=\"#00a9b5\",\n",
    "       width=wid\n",
    "      )\n",
    "\n",
    "plt.show()"
   ]
  },
  {
   "cell_type": "markdown",
   "metadata": {
    "id": "KDMK8mn7_2w4"
   },
   "source": [
    "**Podemos agora adicionar todas as barras**"
   ]
  },
  {
   "cell_type": "code",
   "execution_count": 33,
   "metadata": {
    "id": "zGgaCwRQ_2w4",
    "outputId": "f8ce1ab1-d123-4707-ce7f-50d2247a7a92"
   },
   "outputs": [
    {
     "data": {
      "image/png": "[encoded data removed]",
      "text/plain": [
       "<Figure size 648x288 with 1 Axes>"
      ]
     },
     "metadata": {
      "needs_background": "light"
     },
     "output_type": "display_data"
    }
   ],
   "source": [
    "fig,ax = plt.subplots(\n",
    "            figsize = (9,4) # Tamanho da figura\n",
    "        )\n",
    "\n",
    "wid = 0.2\n",
    "\n",
    "ax.bar(soma_mes[soma_mes.Ano == 2015].Mes.values-wid-wid/2, # <- DESLOCANDO A BARRA PARA A ESQUERDA\n",
    "       soma_mes[soma_mes.Ano == 2015].Sales.values,\n",
    "       color=\"#00c698\", # Cor das barras\n",
    "       label=2015, # Label dos dados\n",
    "       width=wid # Largura das barras\n",
    "      )\n",
    "ax.bar(soma_mes[soma_mes.Ano == 2016].Mes.values-wid/2, # <- DESLOCANDO A BARRA PARA A DIREITA\n",
    "       soma_mes[soma_mes.Ano == 2016].Sales.values,\n",
    "       color=\"#00a9b5\", \n",
    "       label=2016,\n",
    "       width=wid \n",
    "      )\n",
    "ax.bar(soma_mes[soma_mes.Ano == 2017].Mes.values+wid/2, # <- DESLOCANDO A BARRA PARA A ESQUERDA\n",
    "       soma_mes[soma_mes.Ano == 2017].Sales.values,\n",
    "       color=\"red\", # Cor das barras\n",
    "       label=2017, # Label dos dados\n",
    "       width=wid # Largura das barras\n",
    "      )\n",
    "ax.bar(soma_mes[soma_mes.Ano == 2018].Mes.values+wid+wid/2, # <- DESLOCANDO A BARRA PARA A DIREITA\n",
    "       soma_mes[soma_mes.Ano == 2018].Sales.values,\n",
    "       color=\"blue\", \n",
    "       label=2018,\n",
    "       width=wid \n",
    "      )\n",
    "\n",
    "ax.legend()\n",
    "\n",
    "plt.show()"
   ]
  },
  {
   "cell_type": "markdown",
   "metadata": {
    "id": "dYoXM4zM_2w4"
   },
   "source": [
    "**E vamos colocar rótulo apenas em 2018 para não poluir muito o gráfico**"
   ]
  },
  {
   "cell_type": "code",
   "execution_count": 34,
   "metadata": {
    "id": "uEIjDYEx_2w4",
    "outputId": "62ebcb20-ecc8-453c-b3d2-22f88a0b8650"
   },
   "outputs": [
    {
     "data": {
      "image/png": "[encoded data removed]",
      "text/plain": [
       "<Figure size 1152x288 with 1 Axes>"
      ]
     },
     "metadata": {
      "needs_background": "light"
     },
     "output_type": "display_data"
    }
   ],
   "source": [
    "fig,ax = plt.subplots(\n",
    "            figsize = (16,4) # Tamanho da figura\n",
    "        )\n",
    "\n",
    "wid = 0.2 # Tamanho das barras\n",
    "\n",
    "ax.bar(soma_mes[soma_mes.Ano == 2015].Mes.values-wid-wid/2, # Ajuste da posição das barras\n",
    "       soma_mes[soma_mes.Ano == 2015].Sales.values,\n",
    "       color=\"#00c698\", # Cor das barras\n",
    "       label=2015, # Label dos dados\n",
    "       width=wid # Largura das barras\n",
    "      )\n",
    "ax.bar(soma_mes[soma_mes.Ano == 2016].Mes.values-wid/2, \n",
    "       soma_mes[soma_mes.Ano == 2016].Sales.values,\n",
    "       color=\"#00a9b5\", \n",
    "       label=2016,\n",
    "       width=wid \n",
    "      )\n",
    "\n",
    "# Adicionando o restante das barras\n",
    "ax.bar(soma_mes[soma_mes.Ano == 2017].Mes.values+wid/2, \n",
    "       soma_mes[soma_mes.Ano == 2017].Sales.values,\n",
    "       color=\"#008ac5\", \n",
    "       label=2017,\n",
    "       width=wid \n",
    "      )\n",
    "ax.bar(soma_mes[soma_mes.Ano == 2018].Mes.values+wid+wid/2, \n",
    "       soma_mes[soma_mes.Ano == 2018].Sales.values,\n",
    "       color=\"#0069c0\", \n",
    "       label=2018,\n",
    "       width=wid \n",
    "      )\n",
    "ax.legend()\n",
    "\n",
    "for i in np.arange(0,12):\n",
    "    ax.annotate('{:,.0f}k'.format(soma_mes[soma_mes.Ano == 2018].Sales.values[i]/1000), # Valores que vão ser mostrados como rótulos, já formatados\n",
    "                (soma_mes[soma_mes.Ano == 2018].Mes.values[i]+wid+wid/2,soma_mes[soma_mes.Ano == 2018].Sales.values[i]), # Posição (x,y que esses valores vão estar)\n",
    "                ha=\"center\",  # Alinhamento horizontal do texto\n",
    "                va=\"top\", # Alinhamento vertical do texto\n",
    "                xytext=(0,+15), # Deslocamento em relação ao ponto que o texto estaria\n",
    "                textcoords=\"offset points\",  # Sistema de coordenadas que o xytext vai ter como referência (nesse caso será em pontos, não em pixels)\n",
    "                fontsize=12, # Tamanho da fonte dos rótulos\n",
    "                fontweight='bold', # Espessura da fonte dos rótulos\n",
    "                color=\"#0069c0\" # Cor dos rótulos\n",
    "            )\n",
    "\n",
    "plt.show()"
   ]
  },
  {
   "cell_type": "markdown",
   "metadata": {
    "id": "UPNSTG4k_2w5"
   },
   "source": [
    "**Melhorando o visual retirando as bordas e ajustando o texto do eixo x**"
   ]
  },
  {
   "cell_type": "code",
   "execution_count": 35,
   "metadata": {
    "id": "TS-CfdxU_2w5",
    "outputId": "241d3dcc-53dd-4016-9394-53177b093c74"
   },
   "outputs": [
    {
     "data": {
      "image/png": "[encoded data removed]",
      "text/plain": [
       "<Figure size 1152x288 with 1 Axes>"
      ]
     },
     "metadata": {
      "needs_background": "light"
     },
     "output_type": "display_data"
    }
   ],
   "source": [
    "fig,ax = plt.subplots(\n",
    "            figsize = (16,4) # Tamanho da figura\n",
    "        )\n",
    "\n",
    "wid = 0.2 # Tamanho das barras\n",
    "\n",
    "ax.bar(soma_mes[soma_mes.Ano == 2015].Mes.values-wid-wid/2, # Ajuste da posição das barras\n",
    "       soma_mes[soma_mes.Ano == 2015].Sales.values,\n",
    "       color=\"#00c698\", # Cor das barras\n",
    "       label=2015, # Label dos dados\n",
    "       width=wid # Largura das barras\n",
    "      )\n",
    "ax.bar(soma_mes[soma_mes.Ano == 2016].Mes.values-wid/2, \n",
    "       soma_mes[soma_mes.Ano == 2016].Sales.values,\n",
    "       color=\"#00a9b5\", \n",
    "       label=2016,\n",
    "       width=wid \n",
    "      )\n",
    "\n",
    "# Adicionando o restante das barras\n",
    "ax.bar(soma_mes[soma_mes.Ano == 2017].Mes.values+wid/2, \n",
    "       soma_mes[soma_mes.Ano == 2017].Sales.values,\n",
    "       color=\"#008ac5\", \n",
    "       label=2017,\n",
    "       width=wid \n",
    "      )\n",
    "ax.bar(soma_mes[soma_mes.Ano == 2018].Mes.values+wid+wid/2, \n",
    "       soma_mes[soma_mes.Ano == 2018].Sales.values,\n",
    "       color=\"#0069c0\", \n",
    "       label=2018,\n",
    "       width=wid \n",
    "      )\n",
    "ax.legend()\n",
    "\n",
    "# Adicionando o rótulo dos dados para 2018\n",
    "for i in np.arange(0,12):\n",
    "    ax.annotate('{:,.0f}k'.format(soma_mes[soma_mes.Ano == 2018].Sales.values[i]/1000), # Valores que vão ser mostrados como rótulos, já formatados\n",
    "                (soma_mes[soma_mes.Ano == 2018].Mes.values[i]+wid+wid/2,soma_mes[soma_mes.Ano == 2018].Sales.values[i]), # Posição (x,y que esses valores vão estar)\n",
    "                ha=\"center\",  # Alinhamento horizontal do texto\n",
    "                va=\"top\", # Alinhamento vertical do texto\n",
    "                xytext=(5,12), # Deslocamento em relação ao ponto que o texto estaria\n",
    "                textcoords=\"offset points\",  # Sistema de coordenadas que o xytext vai ter como referência (nesse caso será em pontos, não em pixels)\n",
    "                fontsize=10, # Tamanho da fonte dos rótulos\n",
    "                fontweight='bold', # Espessura da fonte dos rótulos\n",
    "                color=\"#0069c0\" # Cor dos rótulos\n",
    "            )\n",
    "\n",
    "ax.set_yticks(np.array([0,97000])) # Diminuindo o tamanho das barras para não cortar o rótulo\n",
    "ax.yaxis.set_visible(False) # Retirando os valores do eixo y\n",
    "    \n",
    "ax.spines['top'].set_visible(False) # Retirando os traços do gráfico\n",
    "ax.spines['left'].set_visible(False)\n",
    "ax.spines['right'].set_visible(False)\n",
    "\n",
    "ax.xaxis.set_ticks(np.arange(1,13)) # Ajustando os valores de x\n",
    "ax.set_xticklabels(['Jan','Fev','Mar','Abr','Mai','Jun','Jul','Ago','Set','Out','Nov','Dez']) # Colocando rótulo no meu eixo\n",
    "ax.tick_params(axis='x',labelsize=10) # Melhorando o visual do eixo x\n",
    "\n",
    "plt.show()"
   ]
  },
  {
   "cell_type": "markdown",
   "metadata": {
    "id": "_bLgtyl1_2w6"
   },
   "source": [
    "**Como resultado final, teremos o seguinte gráfico**"
   ]
  },
  {
   "cell_type": "code",
   "execution_count": 36,
   "metadata": {
    "id": "r3QinpvQ_2w6",
    "outputId": "7a0f17a4-c1bc-449a-c076-dcc6481fff09"
   },
   "outputs": [
    {
     "data": {
      "image/png": "[encoded data removed]",
      "text/plain": [
       "<Figure size 1152x288 with 1 Axes>"
      ]
     },
     "metadata": {
      "needs_background": "light"
     },
     "output_type": "display_data"
    }
   ],
   "source": [
    "fig,ax = plt.subplots(\n",
    "            figsize = (16,4) # Tamanho da figura\n",
    "        )\n",
    "\n",
    "wid = 0.2 # Tamanho das barras\n",
    "\n",
    "ax.bar(soma_mes[soma_mes.Ano == 2015].Mes.values-wid-wid/2, # Ajuste da posição das barras\n",
    "       soma_mes[soma_mes.Ano == 2015].Sales.values,\n",
    "       color=\"#00c698\", # Cor das barras\n",
    "       label=2015, # Label dos dados\n",
    "       width=wid # Largura das barras\n",
    "      )\n",
    "ax.bar(soma_mes[soma_mes.Ano == 2016].Mes.values-wid/2, \n",
    "       soma_mes[soma_mes.Ano == 2016].Sales.values,\n",
    "       color=\"#00a9b5\", \n",
    "       label=2016,\n",
    "       width=wid \n",
    "      )\n",
    "\n",
    "# Adicionando o restante das barras\n",
    "ax.bar(soma_mes[soma_mes.Ano == 2017].Mes.values+wid/2, \n",
    "       soma_mes[soma_mes.Ano == 2017].Sales.values,\n",
    "       color=\"#008ac5\", \n",
    "       label=2017,\n",
    "       width=wid \n",
    "      )\n",
    "ax.bar(soma_mes[soma_mes.Ano == 2018].Mes.values+wid+wid/2, \n",
    "       soma_mes[soma_mes.Ano == 2018].Sales.values,\n",
    "       color=\"#0069c0\", \n",
    "       label=2018,\n",
    "       width=wid \n",
    "      )\n",
    "ax.legend()\n",
    "\n",
    "# Adicionando o rótulo dos dados para 2018\n",
    "for i in np.arange(0,12):\n",
    "    ax.annotate('{:,.0f}k'.format(soma_mes[soma_mes.Ano == 2018].Sales.values[i]/1000), # Valores que vão ser mostrados como rótulos, já formatados\n",
    "                (soma_mes[soma_mes.Ano == 2018].Mes.values[i]+wid+wid/2,soma_mes[soma_mes.Ano == 2018].Sales.values[i]), # Posição (x,y que esses valores vão estar)\n",
    "                ha=\"center\",  # Alinhamento horizontal do texto\n",
    "                va=\"top\", # Alinhamento vertical do texto\n",
    "                xytext=(5,12), # Deslocamento em relação ao ponto que o texto estaria\n",
    "                textcoords=\"offset points\",  # Sistema de coordenadas que o xytext vai ter como referência (nesse caso será em pontos, não em pixels)\n",
    "                fontsize=10, # Tamanho da fonte dos rótulos\n",
    "                fontweight='bold', # Espessura da fonte dos rótulos\n",
    "                color=\"#0069c0\" # Cor dos rótulos\n",
    "            )\n",
    "\n",
    "ax.set_yticks(np.array([0,97000])) # Diminuindo o tamanho das barras para não cortar o rótulo\n",
    "ax.yaxis.set_visible(False) # Retirando os valores do eixo y\n",
    "    \n",
    "ax.spines['top'].set_visible(False) # Retirando os traços do gráfico\n",
    "ax.spines['left'].set_visible(False)\n",
    "ax.spines['right'].set_visible(False)\n",
    "\n",
    "ax.xaxis.set_ticks(np.arange(1,13)) # Ajustando os valores de x\n",
    "ax.set_xticklabels(['Jan','Fev','Mar','Abr','Mai','Jun','Jul','Ago','Set','Out','Nov','Dez']) # Colocando rótulo no meu eixo\n",
    "ax.tick_params(axis='x',labelsize=10) # Melhorando o visual do eixo x\n",
    "\n",
    "plt.show()"
   ]
  },
  {
   "cell_type": "markdown",
   "metadata": {
    "id": "qUC4sXvK_2w7"
   },
   "source": [
    "### 4. <font color=\"blue\"> Qual foi a categoria mais vendida? </font>\n",
    "Precisamos primeiro entender a informação de categoria"
   ]
  },
  {
   "cell_type": "code",
   "execution_count": 37,
   "metadata": {
    "id": "KgGAGLSb_2w7",
    "outputId": "552a1db5-bcfe-44e3-c300-4946de493fad"
   },
   "outputs": [
    {
     "data": {
      "text/html": [
       "<div>\n",
       "<style scoped>\n",
       "    .dataframe tbody tr th:only-of-type {\n",
       "        vertical-align: middle;\n",
       "    }\n",
       "\n",
       "    .dataframe tbody tr th {\n",
       "        vertical-align: top;\n",
       "    }\n",
       "\n",
       "    .dataframe thead th {\n",
       "        text-align: right;\n",
       "    }\n",
       "</style>\n",
       "<table border=\"1\" class=\"dataframe\">\n",
       "  <thead>\n",
       "    <tr style=\"text-align: right;\">\n",
       "      <th></th>\n",
       "      <th>Row ID</th>\n",
       "      <th>Order ID</th>\n",
       "      <th>Order Date</th>\n",
       "      <th>Ship Date</th>\n",
       "      <th>Ship Mode</th>\n",
       "      <th>Customer ID</th>\n",
       "      <th>Customer Name</th>\n",
       "      <th>Segment</th>\n",
       "      <th>Country</th>\n",
       "      <th>City</th>\n",
       "      <th>State</th>\n",
       "      <th>Postal Code</th>\n",
       "      <th>Region</th>\n",
       "      <th>Product ID</th>\n",
       "      <th>Category</th>\n",
       "      <th>Sub-Category</th>\n",
       "      <th>Product Name</th>\n",
       "      <th>Sales</th>\n",
       "      <th>Ano</th>\n",
       "      <th>Mes</th>\n",
       "    </tr>\n",
       "  </thead>\n",
       "  <tbody>\n",
       "    <tr>\n",
       "      <th>0</th>\n",
       "      <td>1</td>\n",
       "      <td>CA-2017-152156</td>\n",
       "      <td>2017-11-08</td>\n",
       "      <td>2017-11-11</td>\n",
       "      <td>Second Class</td>\n",
       "      <td>CG-12520</td>\n",
       "      <td>Claire Gute</td>\n",
       "      <td>Consumer</td>\n",
       "      <td>United States</td>\n",
       "      <td>Henderson</td>\n",
       "      <td>Kentucky</td>\n",
       "      <td>42420.0</td>\n",
       "      <td>South</td>\n",
       "      <td>FUR-BO-10001798</td>\n",
       "      <td>Furniture</td>\n",
       "      <td>Bookcases</td>\n",
       "      <td>Bush Somerset Collection Bookcase</td>\n",
       "      <td>261.96</td>\n",
       "      <td>2017</td>\n",
       "      <td>11</td>\n",
       "    </tr>\n",
       "    <tr>\n",
       "      <th>1</th>\n",
       "      <td>2</td>\n",
       "      <td>CA-2017-152156</td>\n",
       "      <td>2017-11-08</td>\n",
       "      <td>2017-11-11</td>\n",
       "      <td>Second Class</td>\n",
       "      <td>CG-12520</td>\n",
       "      <td>Claire Gute</td>\n",
       "      <td>Consumer</td>\n",
       "      <td>United States</td>\n",
       "      <td>Henderson</td>\n",
       "      <td>Kentucky</td>\n",
       "      <td>42420.0</td>\n",
       "      <td>South</td>\n",
       "      <td>FUR-CH-10000454</td>\n",
       "      <td>Furniture</td>\n",
       "      <td>Chairs</td>\n",
       "      <td>Hon Deluxe Fabric Upholstered Stacking Chairs,...</td>\n",
       "      <td>731.94</td>\n",
       "      <td>2017</td>\n",
       "      <td>11</td>\n",
       "    </tr>\n",
       "  </tbody>\n",
       "</table>\n",
       "</div>"
      ],
      "text/plain": [
       "   Row ID        Order ID Order Date  Ship Date     Ship Mode Customer ID  \\\n",
       "0       1  CA-2017-152156 2017-11-08 2017-11-11  Second Class    CG-12520   \n",
       "1       2  CA-2017-152156 2017-11-08 2017-11-11  Second Class    CG-12520   \n",
       "\n",
       "  Customer Name   Segment        Country       City     State  Postal Code  \\\n",
       "0   Claire Gute  Consumer  United States  Henderson  Kentucky      42420.0   \n",
       "1   Claire Gute  Consumer  United States  Henderson  Kentucky      42420.0   \n",
       "\n",
       "  Region       Product ID   Category Sub-Category  \\\n",
       "0  South  FUR-BO-10001798  Furniture    Bookcases   \n",
       "1  South  FUR-CH-10000454  Furniture       Chairs   \n",
       "\n",
       "                                        Product Name   Sales   Ano  Mes  \n",
       "0                  Bush Somerset Collection Bookcase  261.96  2017   11  \n",
       "1  Hon Deluxe Fabric Upholstered Stacking Chairs,...  731.94  2017   11  "
      ]
     },
     "execution_count": 37,
     "metadata": {},
     "output_type": "execute_result"
    }
   ],
   "source": [
    "base.head(2)"
   ]
  },
  {
   "cell_type": "code",
   "execution_count": 38,
   "metadata": {
    "id": "--3-ewu9_2w7",
    "outputId": "fc14e557-81b7-4d77-824d-11fa7d46f601"
   },
   "outputs": [
    {
     "data": {
      "text/plain": [
       "Category\n",
       "Furniture          728658.5757\n",
       "Office Supplies    705422.3340\n",
       "Technology         827455.8730\n",
       "Name: Sales, dtype: float64"
      ]
     },
     "execution_count": 38,
     "metadata": {},
     "output_type": "execute_result"
    }
   ],
   "source": [
    "# Podemos fazer um groupby da categoria\n",
    "base.groupby(\"Category\")[\"Sales\"].sum()"
   ]
  },
  {
   "cell_type": "markdown",
   "metadata": {
    "id": "ciJILf4b_2w7"
   },
   "source": [
    "**Como estamos falando de 4 anos diferentes, seria interessante entender como foram essas categorias em cada um dos anos**"
   ]
  },
  {
   "cell_type": "code",
   "execution_count": 39,
   "metadata": {
    "id": "to0_g-kf_2w7",
    "outputId": "1c90a803-7f60-4e12-df81-7b048f912dc6"
   },
   "outputs": [
    {
     "data": {
      "text/plain": [
       "Category         Ano \n",
       "Furniture        2015    156477.8811\n",
       "                 2016    164053.8674\n",
       "                 2017    195813.0400\n",
       "                 2018    212313.7872\n",
       "Office Supplies  2015    149512.8200\n",
       "                 2016    133124.4070\n",
       "                 2017    182417.5660\n",
       "                 2018    240367.5410\n",
       "Technology       2015    173865.5070\n",
       "                 2016    162257.7310\n",
       "                 2017    221961.9440\n",
       "                 2018    269370.6910\n",
       "Name: Sales, dtype: float64"
      ]
     },
     "execution_count": 39,
     "metadata": {},
     "output_type": "execute_result"
    }
   ],
   "source": [
    "# Agrupando por ano e categoria\n",
    "base.groupby([\"Category\",\"Ano\"])[\"Sales\"].sum()"
   ]
  },
  {
   "cell_type": "markdown",
   "metadata": {
    "id": "5eEFCYF1_2w7"
   },
   "source": [
    "**Uma forma de visualizar melhor essas informações é fazer um gráfico de barras com esses dados, bem semelhante ao que fizemos acima**"
   ]
  },
  {
   "cell_type": "code",
   "execution_count": 40,
   "metadata": {
    "id": "T508yYPZ_2w7"
   },
   "outputs": [],
   "source": [
    "# Criando agora a base de categorias como fizemos anteriormente\n",
    "categoria = base.groupby([\"Category\",\"Ano\"])[\"Sales\"].sum()\n",
    "categoria = categoria.reset_index()"
   ]
  },
  {
   "cell_type": "code",
   "execution_count": 41,
   "metadata": {
    "id": "HkZwyF7y_2w7",
    "outputId": "b477ebcf-440e-4f16-839d-92acecbb1b4a"
   },
   "outputs": [
    {
     "data": {
      "text/plain": [
       "array([156477.8811, 164053.8674, 195813.04  , 212313.7872])"
      ]
     },
     "execution_count": 41,
     "metadata": {},
     "output_type": "execute_result"
    }
   ],
   "source": [
    "# Visualizando \n",
    "categoria[categoria.Category == 'Furniture'].Sales.values"
   ]
  },
  {
   "cell_type": "markdown",
   "metadata": {
    "id": "OFUIM3Py_2w7"
   },
   "source": [
    "**Utilizando a mesma lógica do gráfico anterior**"
   ]
  },
  {
   "cell_type": "code",
   "execution_count": 42,
   "metadata": {
    "id": "PtwRmn_C_2w7",
    "outputId": "f2601be2-b0f1-4d9f-a073-6fadfbab44b1"
   },
   "outputs": [
    {
     "data": {
      "image/png": "[encoded data removed]",
      "text/plain": [
       "<Figure size 1152x288 with 1 Axes>"
      ]
     },
     "metadata": {
      "needs_background": "light"
     },
     "output_type": "display_data"
    }
   ],
   "source": [
    "# Vamos utilizar o mesmo código do gráfico anterior para exibir por categorias\n",
    "fig,ax = plt.subplots(\n",
    "            figsize = (16,4) # Tamanho da figura\n",
    "        )\n",
    "\n",
    "wid = 0.2 # Tamanho das barras\n",
    "\n",
    "ax.bar(categoria[categoria.Category == 'Furniture'].Ano.values-wid, \n",
    "       categoria[categoria.Category == 'Furniture'].Sales.values,\n",
    "       color=\"#00c698\", # Cor das barras\n",
    "       label='Furniture', # Label dos dados\n",
    "       width=wid # Largura das barras\n",
    "      )\n",
    "ax.bar(categoria[categoria.Category == 'Office Supplies'].Ano.values, \n",
    "       categoria[categoria.Category == 'Office Supplies'].Sales.values,\n",
    "       color=\"#00a9b5\", # Cor das barras\n",
    "       label='Office Supplies', # Label dos dados\n",
    "       width=wid # Largura das barras\n",
    "      )\n",
    "ax.bar(categoria[categoria.Category == 'Technology'].Ano.values+wid, \n",
    "       categoria[categoria.Category == 'Technology'].Sales.values,\n",
    "       color=\"#008ac5\", # Cor das barras\n",
    "       label='Technology', # Label dos dados\n",
    "       width=wid # Largura das barras\n",
    "      )\n",
    "\n",
    "ax.legend()\n",
    "\n",
    "# Adicionando o rótulo dos dados para 2018\n",
    "for i in np.arange(0,4):\n",
    "    ax.annotate('{:,.0f}k'.format(categoria[categoria.Category == 'Furniture'].Sales.values[i]/1000), # Valores que vão ser mostrados como rótulos, já formatados\n",
    "                (categoria[categoria.Category == 'Furniture'].Ano.values[i]-wid,categoria[categoria.Category == 'Furniture'].Sales.values[i]), # Posição (x,y que esses valores vão estar)\n",
    "                ha=\"center\",  # Alinhamento horizontal do texto\n",
    "                va=\"top\", # Alinhamento vertical do texto\n",
    "                xytext=(0,12), # Deslocamento em relação ao ponto que o texto estaria\n",
    "                textcoords=\"offset points\",  # Sistema de coordenadas que o xytext vai ter como referência (nesse caso será em pontos, não em pixels)\n",
    "                fontsize=10, # Tamanho da fonte dos rótulos\n",
    "                fontweight='bold', # Espessura da fonte dos rótulos\n",
    "                color=\"#00c698\" # Cor dos rótulos\n",
    "            )\n",
    "    ax.annotate('{:,.0f}k'.format(categoria[categoria.Category == 'Office Supplies'].Sales.values[i]/1000), # Valores que vão ser mostrados como rótulos, já formatados\n",
    "                (categoria[categoria.Category == 'Office Supplies'].Ano.values[i],categoria[categoria.Category == 'Office Supplies'].Sales.values[i]), # Posição (x,y que esses valores vão estar)\n",
    "                ha=\"center\",  # Alinhamento horizontal do texto\n",
    "                va=\"top\", # Alinhamento vertical do texto\n",
    "                xytext=(0,12), # Deslocamento em relação ao ponto que o texto estaria\n",
    "                textcoords=\"offset points\",  # Sistema de coordenadas que o xytext vai ter como referência (nesse caso será em pontos, não em pixels)\n",
    "                fontsize=10, # Tamanho da fonte dos rótulos\n",
    "                fontweight='bold', # Espessura da fonte dos rótulos\n",
    "                color=\"#00a9b5\" # Cor dos rótulos\n",
    "            )\n",
    "    ax.annotate('{:,.0f}k'.format(categoria[categoria.Category == 'Technology'].Sales.values[i]/1000), # Valores que vão ser mostrados como rótulos, já formatados\n",
    "                (categoria[categoria.Category == 'Technology'].Ano.values[i]+wid,categoria[categoria.Category == 'Technology'].Sales.values[i]), # Posição (x,y que esses valores vão estar)\n",
    "                ha=\"center\",  # Alinhamento horizontal do texto\n",
    "                va=\"top\", # Alinhamento vertical do texto\n",
    "                xytext=(0,12), # Deslocamento em relação ao ponto que o texto estaria\n",
    "                textcoords=\"offset points\",  # Sistema de coordenadas que o xytext vai ter como referência (nesse caso será em pontos, não em pixels)\n",
    "                fontsize=10, # Tamanho da fonte dos rótulos\n",
    "                fontweight='bold', # Espessura da fonte dos rótulos\n",
    "                color=\"#008ac5\" # Cor dos rótulos\n",
    "            )\n",
    "ax.set_yticks(np.array([0,320000])) # Diminuindo o tamanho das barras para não cortar o rótulo\n",
    "ax.yaxis.set_visible(False) # Retirando os valores do eixo y\n",
    "    \n",
    "ax.spines['top'].set_visible(False) # Retirando os traços do gráfico\n",
    "ax.spines['left'].set_visible(False)\n",
    "ax.spines['right'].set_visible(False)\n",
    "\n",
    "ax.xaxis.set_ticks([2015,2016,2017,2018]) # Ajustando os valores de x\n",
    "ax.tick_params(axis='x',labelsize=14) # Melhorando o visual do eixo x\n",
    "\n",
    "plt.show()"
   ]
  },
  {
   "cell_type": "markdown",
   "metadata": {
    "id": "hzH2x-Yl_2w8"
   },
   "source": [
    "**Como resultado final, teremos o gráfico abaixo**"
   ]
  },
  {
   "cell_type": "code",
   "execution_count": 43,
   "metadata": {
    "id": "sUfU6ZcJ_2w8",
    "outputId": "25b47746-47ae-4cf9-cbb3-5d8cfb2d1a57"
   },
   "outputs": [
    {
     "data": {
      "image/png": "[encoded data removed]",
      "text/plain": [
       "<Figure size 1152x288 with 1 Axes>"
      ]
     },
     "metadata": {
      "needs_background": "light"
     },
     "output_type": "display_data"
    }
   ],
   "source": [
    "fig,ax = plt.subplots(\n",
    "            figsize = (16,4)\n",
    "        )\n",
    "\n",
    "wid = 0.2 \n",
    "\n",
    "ax.bar(categoria[categoria.Category == 'Furniture'].Ano.values-wid, # Como temos 3 colunas, vamos deslocar a largura da coluna inteira\n",
    "       categoria[categoria.Category == 'Furniture'].Sales.values,\n",
    "       color=\"#00c698\", \n",
    "       label='Furniture', # As legendas agora serão as categorias\n",
    "       width=wid\n",
    "      )\n",
    "\n",
    "ax.bar(categoria[categoria.Category == 'Office Supplies'].Ano.values, \n",
    "       categoria[categoria.Category == 'Office Supplies'].Sales.values,\n",
    "       color=\"#00a9b5\", \n",
    "       label='Office Supplies', \n",
    "       width=wid\n",
    "      )\n",
    "\n",
    "ax.bar(categoria[categoria.Category == 'Technology'].Ano.values+wid, \n",
    "       categoria[categoria.Category == 'Technology'].Sales.values,\n",
    "       color=\"#008ac5\", \n",
    "       label='Technology', \n",
    "       width=wid\n",
    "      )\n",
    "\n",
    "ax.legend()\n",
    "\n",
    "for i in np.arange(0,4):\n",
    "    ax.annotate('{:,.0f}k'.format(categoria[categoria.Category == 'Furniture'].Sales.values[i]/1000), \n",
    "                (categoria[categoria.Category == 'Furniture'].Ano.values[i]-wid,categoria[categoria.Category == 'Furniture'].Sales.values[i]), \n",
    "                ha=\"center\", va=\"top\", xytext=(0,15), textcoords=\"offset points\", \n",
    "                fontsize=12, fontweight='bold', color=\"#00c698\")\n",
    "    ax.annotate('{:,.0f}k'.format(categoria[categoria.Category == 'Office Supplies'].Sales.values[i]/1000), \n",
    "                (categoria[categoria.Category == 'Office Supplies'].Ano.values[i],categoria[categoria.Category == 'Office Supplies'].Sales.values[i]), \n",
    "                ha=\"center\", va=\"top\", xytext=(0,15), textcoords=\"offset points\", \n",
    "                fontsize=12, fontweight='bold', color=\"#00a9b5\")\n",
    "    ax.annotate('{:,.0f}k'.format(categoria[categoria.Category == 'Technology'].Sales.values[i]/1000), \n",
    "                (categoria[categoria.Category == 'Technology'].Ano.values[i]+wid,categoria[categoria.Category == 'Technology'].Sales.values[i]), \n",
    "                ha=\"center\", va=\"top\", xytext=(0,15), textcoords=\"offset points\", \n",
    "                fontsize=12, fontweight='bold', color=\"#008ac5\")   \n",
    "    \n",
    "ax.set_yticks(np.array([0,350000]))\n",
    "ax.yaxis.set_visible(False) \n",
    "\n",
    "ax.spines['top'].set_visible(False) \n",
    "ax.spines['left'].set_visible(False)\n",
    "ax.spines['right'].set_visible(False)\n",
    "\n",
    "ax.xaxis.set_ticks(np.arange(2015,2019)) \n",
    "ax.tick_params(axis='x',labelsize=12) \n",
    "\n",
    "plt.show()"
   ]
  },
  {
   "cell_type": "markdown",
   "metadata": {
    "id": "1ICI5bk7_2w8"
   },
   "source": [
    "### 4. <font color=\"blue\"> Qual o item mais vendido? </font>\n",
    "Vamos seguir exatamente a mesma lógica da categoria"
   ]
  },
  {
   "cell_type": "code",
   "execution_count": 44,
   "metadata": {
    "id": "4UJkwdnd_2w8",
    "outputId": "638f951f-b962-47bd-ef97-3803ed2b5890"
   },
   "outputs": [
    {
     "data": {
      "text/html": [
       "<div>\n",
       "<style scoped>\n",
       "    .dataframe tbody tr th:only-of-type {\n",
       "        vertical-align: middle;\n",
       "    }\n",
       "\n",
       "    .dataframe tbody tr th {\n",
       "        vertical-align: top;\n",
       "    }\n",
       "\n",
       "    .dataframe thead th {\n",
       "        text-align: right;\n",
       "    }\n",
       "</style>\n",
       "<table border=\"1\" class=\"dataframe\">\n",
       "  <thead>\n",
       "    <tr style=\"text-align: right;\">\n",
       "      <th></th>\n",
       "      <th>Row ID</th>\n",
       "      <th>Order ID</th>\n",
       "      <th>Order Date</th>\n",
       "      <th>Ship Date</th>\n",
       "      <th>Ship Mode</th>\n",
       "      <th>Customer ID</th>\n",
       "      <th>Customer Name</th>\n",
       "      <th>Segment</th>\n",
       "      <th>Country</th>\n",
       "      <th>City</th>\n",
       "      <th>State</th>\n",
       "      <th>Postal Code</th>\n",
       "      <th>Region</th>\n",
       "      <th>Product ID</th>\n",
       "      <th>Category</th>\n",
       "      <th>Sub-Category</th>\n",
       "      <th>Product Name</th>\n",
       "      <th>Sales</th>\n",
       "      <th>Ano</th>\n",
       "      <th>Mes</th>\n",
       "    </tr>\n",
       "  </thead>\n",
       "  <tbody>\n",
       "    <tr>\n",
       "      <th>0</th>\n",
       "      <td>1</td>\n",
       "      <td>CA-2017-152156</td>\n",
       "      <td>2017-11-08</td>\n",
       "      <td>2017-11-11</td>\n",
       "      <td>Second Class</td>\n",
       "      <td>CG-12520</td>\n",
       "      <td>Claire Gute</td>\n",
       "      <td>Consumer</td>\n",
       "      <td>United States</td>\n",
       "      <td>Henderson</td>\n",
       "      <td>Kentucky</td>\n",
       "      <td>42420.0</td>\n",
       "      <td>South</td>\n",
       "      <td>FUR-BO-10001798</td>\n",
       "      <td>Furniture</td>\n",
       "      <td>Bookcases</td>\n",
       "      <td>Bush Somerset Collection Bookcase</td>\n",
       "      <td>261.96</td>\n",
       "      <td>2017</td>\n",
       "      <td>11</td>\n",
       "    </tr>\n",
       "    <tr>\n",
       "      <th>1</th>\n",
       "      <td>2</td>\n",
       "      <td>CA-2017-152156</td>\n",
       "      <td>2017-11-08</td>\n",
       "      <td>2017-11-11</td>\n",
       "      <td>Second Class</td>\n",
       "      <td>CG-12520</td>\n",
       "      <td>Claire Gute</td>\n",
       "      <td>Consumer</td>\n",
       "      <td>United States</td>\n",
       "      <td>Henderson</td>\n",
       "      <td>Kentucky</td>\n",
       "      <td>42420.0</td>\n",
       "      <td>South</td>\n",
       "      <td>FUR-CH-10000454</td>\n",
       "      <td>Furniture</td>\n",
       "      <td>Chairs</td>\n",
       "      <td>Hon Deluxe Fabric Upholstered Stacking Chairs,...</td>\n",
       "      <td>731.94</td>\n",
       "      <td>2017</td>\n",
       "      <td>11</td>\n",
       "    </tr>\n",
       "  </tbody>\n",
       "</table>\n",
       "</div>"
      ],
      "text/plain": [
       "   Row ID        Order ID Order Date  Ship Date     Ship Mode Customer ID  \\\n",
       "0       1  CA-2017-152156 2017-11-08 2017-11-11  Second Class    CG-12520   \n",
       "1       2  CA-2017-152156 2017-11-08 2017-11-11  Second Class    CG-12520   \n",
       "\n",
       "  Customer Name   Segment        Country       City     State  Postal Code  \\\n",
       "0   Claire Gute  Consumer  United States  Henderson  Kentucky      42420.0   \n",
       "1   Claire Gute  Consumer  United States  Henderson  Kentucky      42420.0   \n",
       "\n",
       "  Region       Product ID   Category Sub-Category  \\\n",
       "0  South  FUR-BO-10001798  Furniture    Bookcases   \n",
       "1  South  FUR-CH-10000454  Furniture       Chairs   \n",
       "\n",
       "                                        Product Name   Sales   Ano  Mes  \n",
       "0                  Bush Somerset Collection Bookcase  261.96  2017   11  \n",
       "1  Hon Deluxe Fabric Upholstered Stacking Chairs,...  731.94  2017   11  "
      ]
     },
     "execution_count": 44,
     "metadata": {},
     "output_type": "execute_result"
    }
   ],
   "source": [
    "base.head(2)"
   ]
  },
  {
   "cell_type": "markdown",
   "metadata": {
    "id": "I2G1sqZp_2w8"
   },
   "source": [
    "**Podemos fazer a tabela considerando esses top itens**\n",
    "- Para pegar uma base, podemos usar o `.head()` que já conhecemos\n",
    "- Podemos também usar o `.sort_values()` para definirmos se a base será crescente ou descrescente"
   ]
  },
  {
   "cell_type": "code",
   "execution_count": 45,
   "metadata": {
    "id": "RSUeE1gg_2w8",
    "outputId": "f7cecc12-09e9-4bd9-fb1c-a26ed246f540"
   },
   "outputs": [
    {
     "data": {
      "text/html": [
       "<div>\n",
       "<style scoped>\n",
       "    .dataframe tbody tr th:only-of-type {\n",
       "        vertical-align: middle;\n",
       "    }\n",
       "\n",
       "    .dataframe tbody tr th {\n",
       "        vertical-align: top;\n",
       "    }\n",
       "\n",
       "    .dataframe thead th {\n",
       "        text-align: right;\n",
       "    }\n",
       "</style>\n",
       "<table border=\"1\" class=\"dataframe\">\n",
       "  <thead>\n",
       "    <tr style=\"text-align: right;\">\n",
       "      <th></th>\n",
       "      <th>Product Name</th>\n",
       "      <th>Sales</th>\n",
       "    </tr>\n",
       "  </thead>\n",
       "  <tbody>\n",
       "    <tr>\n",
       "      <th>404</th>\n",
       "      <td>Canon imageCLASS 2200 Advanced Copier</td>\n",
       "      <td>61599.824</td>\n",
       "    </tr>\n",
       "    <tr>\n",
       "      <th>649</th>\n",
       "      <td>Fellowes PB500 Electric Punch Plastic Comb Bin...</td>\n",
       "      <td>27453.384</td>\n",
       "    </tr>\n",
       "    <tr>\n",
       "      <th>444</th>\n",
       "      <td>Cisco TelePresence System EX90 Videoconferenci...</td>\n",
       "      <td>22638.480</td>\n",
       "    </tr>\n",
       "    <tr>\n",
       "      <th>785</th>\n",
       "      <td>HON 5400 Series Task Chairs for Big and Tall</td>\n",
       "      <td>21870.576</td>\n",
       "    </tr>\n",
       "    <tr>\n",
       "      <th>685</th>\n",
       "      <td>GBC DocuBind TL300 Electric Binding System</td>\n",
       "      <td>19823.479</td>\n",
       "    </tr>\n",
       "    <tr>\n",
       "      <th>687</th>\n",
       "      <td>GBC Ibimaster 500 Manual ProClick Binding System</td>\n",
       "      <td>19024.500</td>\n",
       "    </tr>\n",
       "    <tr>\n",
       "      <th>804</th>\n",
       "      <td>Hewlett Packard LaserJet 3310 Copier</td>\n",
       "      <td>18839.686</td>\n",
       "    </tr>\n",
       "    <tr>\n",
       "      <th>786</th>\n",
       "      <td>HP Designjet T520 Inkjet Large Format Printer ...</td>\n",
       "      <td>18374.895</td>\n",
       "    </tr>\n",
       "    <tr>\n",
       "      <th>682</th>\n",
       "      <td>GBC DocuBind P400 Electric Binding System</td>\n",
       "      <td>17965.068</td>\n",
       "    </tr>\n",
       "    <tr>\n",
       "      <th>812</th>\n",
       "      <td>High Speed Automatic Electric Letter Opener</td>\n",
       "      <td>17030.312</td>\n",
       "    </tr>\n",
       "  </tbody>\n",
       "</table>\n",
       "</div>"
      ],
      "text/plain": [
       "                                          Product Name      Sales\n",
       "404              Canon imageCLASS 2200 Advanced Copier  61599.824\n",
       "649  Fellowes PB500 Electric Punch Plastic Comb Bin...  27453.384\n",
       "444  Cisco TelePresence System EX90 Videoconferenci...  22638.480\n",
       "785       HON 5400 Series Task Chairs for Big and Tall  21870.576\n",
       "685         GBC DocuBind TL300 Electric Binding System  19823.479\n",
       "687   GBC Ibimaster 500 Manual ProClick Binding System  19024.500\n",
       "804               Hewlett Packard LaserJet 3310 Copier  18839.686\n",
       "786  HP Designjet T520 Inkjet Large Format Printer ...  18374.895\n",
       "682          GBC DocuBind P400 Electric Binding System  17965.068\n",
       "812        High Speed Automatic Electric Letter Opener  17030.312"
      ]
     },
     "execution_count": 45,
     "metadata": {},
     "output_type": "execute_result"
    }
   ],
   "source": [
    "# Podemos fazer um groupby do item\n",
    "itens = base.groupby(\"Product Name\")[\"Sales\"].sum()\n",
    "itens = itens.reset_index()\n",
    "itens = itens.sort_values(\"Sales\",ascending=False)\n",
    "itens.head(10)"
   ]
  },
  {
   "cell_type": "markdown",
   "metadata": {
    "id": "3UstK5Yf_2w8"
   },
   "source": [
    "**Uma forma de resolver a quantidade de ítens seria fazer apenas para os top 10 ítens**"
   ]
  },
  {
   "cell_type": "code",
   "execution_count": 46,
   "metadata": {
    "id": "nZIXomGI_2w8",
    "outputId": "b4314de3-c251-4b83-c89d-1ec3b8c2d7a0"
   },
   "outputs": [
    {
     "data": {
      "text/html": [
       "<div>\n",
       "<style scoped>\n",
       "    .dataframe tbody tr th:only-of-type {\n",
       "        vertical-align: middle;\n",
       "    }\n",
       "\n",
       "    .dataframe tbody tr th {\n",
       "        vertical-align: top;\n",
       "    }\n",
       "\n",
       "    .dataframe thead th {\n",
       "        text-align: right;\n",
       "    }\n",
       "</style>\n",
       "<table border=\"1\" class=\"dataframe\">\n",
       "  <thead>\n",
       "    <tr style=\"text-align: right;\">\n",
       "      <th></th>\n",
       "      <th>Product Name</th>\n",
       "      <th>Sales</th>\n",
       "    </tr>\n",
       "  </thead>\n",
       "  <tbody>\n",
       "    <tr>\n",
       "      <th>404</th>\n",
       "      <td>Canon imageCLASS 2200 Advanced Copier</td>\n",
       "      <td>61599.8240</td>\n",
       "    </tr>\n",
       "    <tr>\n",
       "      <th>649</th>\n",
       "      <td>Fellowes PB500 Electric Punch Plastic Comb Bin...</td>\n",
       "      <td>27453.3840</td>\n",
       "    </tr>\n",
       "    <tr>\n",
       "      <th>444</th>\n",
       "      <td>Cisco TelePresence System EX90 Videoconferenci...</td>\n",
       "      <td>22638.4800</td>\n",
       "    </tr>\n",
       "    <tr>\n",
       "      <th>785</th>\n",
       "      <td>HON 5400 Series Task Chairs for Big and Tall</td>\n",
       "      <td>21870.5760</td>\n",
       "    </tr>\n",
       "    <tr>\n",
       "      <th>685</th>\n",
       "      <td>GBC DocuBind TL300 Electric Binding System</td>\n",
       "      <td>19823.4790</td>\n",
       "    </tr>\n",
       "    <tr>\n",
       "      <th>687</th>\n",
       "      <td>GBC Ibimaster 500 Manual ProClick Binding System</td>\n",
       "      <td>19024.5000</td>\n",
       "    </tr>\n",
       "    <tr>\n",
       "      <th>804</th>\n",
       "      <td>Hewlett Packard LaserJet 3310 Copier</td>\n",
       "      <td>18839.6860</td>\n",
       "    </tr>\n",
       "    <tr>\n",
       "      <th>786</th>\n",
       "      <td>HP Designjet T520 Inkjet Large Format Printer ...</td>\n",
       "      <td>18374.8950</td>\n",
       "    </tr>\n",
       "    <tr>\n",
       "      <th>682</th>\n",
       "      <td>GBC DocuBind P400 Electric Binding System</td>\n",
       "      <td>17965.0680</td>\n",
       "    </tr>\n",
       "    <tr>\n",
       "      <th>812</th>\n",
       "      <td>High Speed Automatic Electric Letter Opener</td>\n",
       "      <td>17030.3120</td>\n",
       "    </tr>\n",
       "    <tr>\n",
       "      <th>984</th>\n",
       "      <td>Lexmark MX611dhe Monochrome Laser Printer</td>\n",
       "      <td>16829.9010</td>\n",
       "    </tr>\n",
       "    <tr>\n",
       "      <th>1042</th>\n",
       "      <td>Martin Yale Chadless Opener Electric Letter Op...</td>\n",
       "      <td>16656.2000</td>\n",
       "    </tr>\n",
       "    <tr>\n",
       "      <th>894</th>\n",
       "      <td>Ibico EPK-21 Electric Binding System</td>\n",
       "      <td>15875.9160</td>\n",
       "    </tr>\n",
       "    <tr>\n",
       "      <th>1350</th>\n",
       "      <td>Riverside Palais Royal Lawyers Bookcase, Royal...</td>\n",
       "      <td>15610.9656</td>\n",
       "    </tr>\n",
       "    <tr>\n",
       "      <th>19</th>\n",
       "      <td>3D Systems Cube Printer, 2nd Generation, Magenta</td>\n",
       "      <td>14299.8900</td>\n",
       "    </tr>\n",
       "    <tr>\n",
       "      <th>1387</th>\n",
       "      <td>Samsung Galaxy Mega 6.3</td>\n",
       "      <td>13943.6680</td>\n",
       "    </tr>\n",
       "    <tr>\n",
       "      <th>155</th>\n",
       "      <td>Apple iPhone 5</td>\n",
       "      <td>12996.6000</td>\n",
       "    </tr>\n",
       "    <tr>\n",
       "      <th>368</th>\n",
       "      <td>Bretford Rectangular Conference Table Tops</td>\n",
       "      <td>12995.2915</td>\n",
       "    </tr>\n",
       "    <tr>\n",
       "      <th>768</th>\n",
       "      <td>Global Troy Executive Leather Low-Back Tilter</td>\n",
       "      <td>12975.3820</td>\n",
       "    </tr>\n",
       "    <tr>\n",
       "      <th>1362</th>\n",
       "      <td>SAFCO Arco Folding Chair</td>\n",
       "      <td>11572.7800</td>\n",
       "    </tr>\n",
       "  </tbody>\n",
       "</table>\n",
       "</div>"
      ],
      "text/plain": [
       "                                           Product Name       Sales\n",
       "404               Canon imageCLASS 2200 Advanced Copier  61599.8240\n",
       "649   Fellowes PB500 Electric Punch Plastic Comb Bin...  27453.3840\n",
       "444   Cisco TelePresence System EX90 Videoconferenci...  22638.4800\n",
       "785        HON 5400 Series Task Chairs for Big and Tall  21870.5760\n",
       "685          GBC DocuBind TL300 Electric Binding System  19823.4790\n",
       "687    GBC Ibimaster 500 Manual ProClick Binding System  19024.5000\n",
       "804                Hewlett Packard LaserJet 3310 Copier  18839.6860\n",
       "786   HP Designjet T520 Inkjet Large Format Printer ...  18374.8950\n",
       "682           GBC DocuBind P400 Electric Binding System  17965.0680\n",
       "812         High Speed Automatic Electric Letter Opener  17030.3120\n",
       "984           Lexmark MX611dhe Monochrome Laser Printer  16829.9010\n",
       "1042  Martin Yale Chadless Opener Electric Letter Op...  16656.2000\n",
       "894                Ibico EPK-21 Electric Binding System  15875.9160\n",
       "1350  Riverside Palais Royal Lawyers Bookcase, Royal...  15610.9656\n",
       "19     3D Systems Cube Printer, 2nd Generation, Magenta  14299.8900\n",
       "1387                            Samsung Galaxy Mega 6.3  13943.6680\n",
       "155                                      Apple iPhone 5  12996.6000\n",
       "368          Bretford Rectangular Conference Table Tops  12995.2915\n",
       "768       Global Troy Executive Leather Low-Back Tilter  12975.3820\n",
       "1362                           SAFCO Arco Folding Chair  11572.7800"
      ]
     },
     "execution_count": 46,
     "metadata": {},
     "output_type": "execute_result"
    }
   ],
   "source": [
    "# Os top 10 itens são\n",
    "top_20_itens = itens.head(20)\n",
    "top_20_itens"
   ]
  },
  {
   "cell_type": "code",
   "execution_count": 47,
   "metadata": {
    "id": "7bHxxI9v_2w9",
    "outputId": "87a8fbf5-433f-4e0e-d446-f0351c59ed9d"
   },
   "outputs": [
    {
     "data": {
      "text/html": [
       "<div>\n",
       "<style scoped>\n",
       "    .dataframe tbody tr th:only-of-type {\n",
       "        vertical-align: middle;\n",
       "    }\n",
       "\n",
       "    .dataframe tbody tr th {\n",
       "        vertical-align: top;\n",
       "    }\n",
       "\n",
       "    .dataframe thead th {\n",
       "        text-align: right;\n",
       "    }\n",
       "</style>\n",
       "<table border=\"1\" class=\"dataframe\">\n",
       "  <thead>\n",
       "    <tr style=\"text-align: right;\">\n",
       "      <th></th>\n",
       "      <th>Product Name</th>\n",
       "      <th>Sales</th>\n",
       "    </tr>\n",
       "  </thead>\n",
       "  <tbody>\n",
       "    <tr>\n",
       "      <th>404</th>\n",
       "      <td>Canon imageCLASS 2200 Advanced Copier</td>\n",
       "      <td>61599.824</td>\n",
       "    </tr>\n",
       "    <tr>\n",
       "      <th>649</th>\n",
       "      <td>Fellowes PB500 Electric Punch Plastic Comb Bin...</td>\n",
       "      <td>27453.384</td>\n",
       "    </tr>\n",
       "    <tr>\n",
       "      <th>444</th>\n",
       "      <td>Cisco TelePresence System EX90 Videoconferenci...</td>\n",
       "      <td>22638.480</td>\n",
       "    </tr>\n",
       "    <tr>\n",
       "      <th>785</th>\n",
       "      <td>HON 5400 Series Task Chairs for Big and Tall</td>\n",
       "      <td>21870.576</td>\n",
       "    </tr>\n",
       "    <tr>\n",
       "      <th>685</th>\n",
       "      <td>GBC DocuBind TL300 Electric Binding System</td>\n",
       "      <td>19823.479</td>\n",
       "    </tr>\n",
       "    <tr>\n",
       "      <th>687</th>\n",
       "      <td>GBC Ibimaster 500 Manual ProClick Binding System</td>\n",
       "      <td>19024.500</td>\n",
       "    </tr>\n",
       "    <tr>\n",
       "      <th>804</th>\n",
       "      <td>Hewlett Packard LaserJet 3310 Copier</td>\n",
       "      <td>18839.686</td>\n",
       "    </tr>\n",
       "    <tr>\n",
       "      <th>786</th>\n",
       "      <td>HP Designjet T520 Inkjet Large Format Printer ...</td>\n",
       "      <td>18374.895</td>\n",
       "    </tr>\n",
       "    <tr>\n",
       "      <th>682</th>\n",
       "      <td>GBC DocuBind P400 Electric Binding System</td>\n",
       "      <td>17965.068</td>\n",
       "    </tr>\n",
       "    <tr>\n",
       "      <th>812</th>\n",
       "      <td>High Speed Automatic Electric Letter Opener</td>\n",
       "      <td>17030.312</td>\n",
       "    </tr>\n",
       "  </tbody>\n",
       "</table>\n",
       "</div>"
      ],
      "text/plain": [
       "                                          Product Name      Sales\n",
       "404              Canon imageCLASS 2200 Advanced Copier  61599.824\n",
       "649  Fellowes PB500 Electric Punch Plastic Comb Bin...  27453.384\n",
       "444  Cisco TelePresence System EX90 Videoconferenci...  22638.480\n",
       "785       HON 5400 Series Task Chairs for Big and Tall  21870.576\n",
       "685         GBC DocuBind TL300 Electric Binding System  19823.479\n",
       "687   GBC Ibimaster 500 Manual ProClick Binding System  19024.500\n",
       "804               Hewlett Packard LaserJet 3310 Copier  18839.686\n",
       "786  HP Designjet T520 Inkjet Large Format Printer ...  18374.895\n",
       "682          GBC DocuBind P400 Electric Binding System  17965.068\n",
       "812        High Speed Automatic Electric Letter Opener  17030.312"
      ]
     },
     "execution_count": 47,
     "metadata": {},
     "output_type": "execute_result"
    }
   ],
   "source": [
    "# Definindo o top n itens\n",
    "n = 10\n",
    "top_n_itens = itens.head(n)\n",
    "top_n_itens"
   ]
  },
  {
   "cell_type": "markdown",
   "metadata": {
    "id": "0F94UWPI_2w9"
   },
   "source": [
    "**Vamos traçar um gráfico de barras horizontais para mostrar o top 10 itens**\n",
    "- https://matplotlib.org/stable/gallery/lines_bars_and_markers/barh.html#sphx-glr-gallery-lines-bars-and-markers-barh-py"
   ]
  },
  {
   "cell_type": "code",
   "execution_count": 48,
   "metadata": {
    "id": "nFWTrztI_2w9",
    "outputId": "b3439b40-4084-489b-f814-146569b5c87f"
   },
   "outputs": [
    {
     "data": {
      "image/png": "[encoded data removed]",
      "text/plain": [
       "<Figure size 1152x864 with 1 Axes>"
      ]
     },
     "metadata": {
      "needs_background": "light"
     },
     "output_type": "display_data"
    }
   ],
   "source": [
    "# Vamos traçar um gráfico de barras horizontais para mostrar o top itens\n",
    "fig,ax = plt.subplots(\n",
    "            figsize = (16,12)\n",
    "        )\n",
    "\n",
    "ax.barh(top_n_itens['Product Name'].values, #Valores de y\n",
    "        top_n_itens['Sales'].values, # Valores de x \n",
    "        align='center')\n",
    "\n",
    "ax.invert_yaxis() # Inverter o eixo y (deixando o gráfico do maior para o menor)\n",
    "\n",
    "for i in np.arange(0,n):\n",
    "    ax.annotate('{:,.0f}k'.format(top_n_itens['Sales'].values[i]/1000), \n",
    "                (top_n_itens['Sales'].values[i],i), \n",
    "                ha=\"center\", va=\"top\", xytext=(-15,3), textcoords=\"offset points\", \n",
    "                fontsize=12, fontweight='bold', color=\"white\")\n",
    "    \n",
    "ax.xaxis.set_visible(False) \n",
    "\n",
    "ax.spines['top'].set_visible(False) \n",
    "ax.spines['left'].set_visible(False)\n",
    "ax.spines['right'].set_visible(False)\n",
    "ax.spines['bottom'].set_visible(False)\n",
    "\n",
    "plt.show()"
   ]
  },
  {
   "cell_type": "markdown",
   "metadata": {
    "id": "kX7Kgf-d_2w9"
   },
   "source": [
    "**Agora agrupando por ítem e ano**"
   ]
  },
  {
   "cell_type": "code",
   "execution_count": 49,
   "metadata": {
    "id": "IVC_Cdcs_2w9",
    "outputId": "1af823c3-4c7a-4cd2-c76b-152798ff1d3e"
   },
   "outputs": [
    {
     "data": {
      "text/html": [
       "<div>\n",
       "<style scoped>\n",
       "    .dataframe tbody tr th:only-of-type {\n",
       "        vertical-align: middle;\n",
       "    }\n",
       "\n",
       "    .dataframe tbody tr th {\n",
       "        vertical-align: top;\n",
       "    }\n",
       "\n",
       "    .dataframe thead th {\n",
       "        text-align: right;\n",
       "    }\n",
       "</style>\n",
       "<table border=\"1\" class=\"dataframe\">\n",
       "  <thead>\n",
       "    <tr style=\"text-align: right;\">\n",
       "      <th></th>\n",
       "      <th>Product Name</th>\n",
       "      <th>Ano</th>\n",
       "      <th>Sales</th>\n",
       "    </tr>\n",
       "  </thead>\n",
       "  <tbody>\n",
       "    <tr>\n",
       "      <th>0</th>\n",
       "      <td>\"While you Were Out\" Message Book, One Form pe...</td>\n",
       "      <td>2018</td>\n",
       "      <td>25.228</td>\n",
       "    </tr>\n",
       "    <tr>\n",
       "      <th>1</th>\n",
       "      <td>#10 Gummed Flap White Envelopes, 100/Box</td>\n",
       "      <td>2016</td>\n",
       "      <td>6.608</td>\n",
       "    </tr>\n",
       "    <tr>\n",
       "      <th>2</th>\n",
       "      <td>#10 Gummed Flap White Envelopes, 100/Box</td>\n",
       "      <td>2017</td>\n",
       "      <td>24.780</td>\n",
       "    </tr>\n",
       "    <tr>\n",
       "      <th>3</th>\n",
       "      <td>#10 Gummed Flap White Envelopes, 100/Box</td>\n",
       "      <td>2018</td>\n",
       "      <td>9.912</td>\n",
       "    </tr>\n",
       "    <tr>\n",
       "      <th>4</th>\n",
       "      <td>#10 Self-Seal White Envelopes</td>\n",
       "      <td>2017</td>\n",
       "      <td>86.502</td>\n",
       "    </tr>\n",
       "    <tr>\n",
       "      <th>...</th>\n",
       "      <td>...</td>\n",
       "      <td>...</td>\n",
       "      <td>...</td>\n",
       "    </tr>\n",
       "    <tr>\n",
       "      <th>5269</th>\n",
       "      <td>invisibleSHIELD by ZAGG Smudge-Free Screen Pro...</td>\n",
       "      <td>2018</td>\n",
       "      <td>205.086</td>\n",
       "    </tr>\n",
       "    <tr>\n",
       "      <th>5270</th>\n",
       "      <td>netTALK DUO VoIP Telephone Service</td>\n",
       "      <td>2015</td>\n",
       "      <td>335.936</td>\n",
       "    </tr>\n",
       "    <tr>\n",
       "      <th>5271</th>\n",
       "      <td>netTALK DUO VoIP Telephone Service</td>\n",
       "      <td>2016</td>\n",
       "      <td>230.956</td>\n",
       "    </tr>\n",
       "    <tr>\n",
       "      <th>5272</th>\n",
       "      <td>netTALK DUO VoIP Telephone Service</td>\n",
       "      <td>2017</td>\n",
       "      <td>377.928</td>\n",
       "    </tr>\n",
       "    <tr>\n",
       "      <th>5273</th>\n",
       "      <td>netTALK DUO VoIP Telephone Service</td>\n",
       "      <td>2018</td>\n",
       "      <td>167.968</td>\n",
       "    </tr>\n",
       "  </tbody>\n",
       "</table>\n",
       "<p>5274 rows × 3 columns</p>\n",
       "</div>"
      ],
      "text/plain": [
       "                                           Product Name   Ano    Sales\n",
       "0     \"While you Were Out\" Message Book, One Form pe...  2018   25.228\n",
       "1              #10 Gummed Flap White Envelopes, 100/Box  2016    6.608\n",
       "2              #10 Gummed Flap White Envelopes, 100/Box  2017   24.780\n",
       "3              #10 Gummed Flap White Envelopes, 100/Box  2018    9.912\n",
       "4                         #10 Self-Seal White Envelopes  2017   86.502\n",
       "...                                                 ...   ...      ...\n",
       "5269  invisibleSHIELD by ZAGG Smudge-Free Screen Pro...  2018  205.086\n",
       "5270                 netTALK DUO VoIP Telephone Service  2015  335.936\n",
       "5271                 netTALK DUO VoIP Telephone Service  2016  230.956\n",
       "5272                 netTALK DUO VoIP Telephone Service  2017  377.928\n",
       "5273                 netTALK DUO VoIP Telephone Service  2018  167.968\n",
       "\n",
       "[5274 rows x 3 columns]"
      ]
     },
     "execution_count": 49,
     "metadata": {},
     "output_type": "execute_result"
    }
   ],
   "source": [
    "# Podemos fazer um groupby de item e ano\n",
    "itens_ano = base.groupby([\"Product Name\",\"Ano\"])[\"Sales\"].sum()\n",
    "itens_ano = itens_ano.reset_index()\n",
    "itens_ano"
   ]
  },
  {
   "cell_type": "code",
   "execution_count": 50,
   "metadata": {
    "id": "ApL2BP5G_2w-",
    "outputId": "446409b4-a01e-4464-9a67-f949ef7f40b4"
   },
   "outputs": [
    {
     "data": {
      "text/html": [
       "<div>\n",
       "<style scoped>\n",
       "    .dataframe tbody tr th:only-of-type {\n",
       "        vertical-align: middle;\n",
       "    }\n",
       "\n",
       "    .dataframe tbody tr th {\n",
       "        vertical-align: top;\n",
       "    }\n",
       "\n",
       "    .dataframe thead th {\n",
       "        text-align: right;\n",
       "    }\n",
       "</style>\n",
       "<table border=\"1\" class=\"dataframe\">\n",
       "  <thead>\n",
       "    <tr style=\"text-align: right;\">\n",
       "      <th></th>\n",
       "      <th>Product Name</th>\n",
       "      <th>Ano</th>\n",
       "      <th>Sales</th>\n",
       "    </tr>\n",
       "  </thead>\n",
       "  <tbody>\n",
       "    <tr>\n",
       "      <th>1270</th>\n",
       "      <td>Cisco TelePresence System EX90 Videoconferenci...</td>\n",
       "      <td>2015</td>\n",
       "      <td>22638.48</td>\n",
       "    </tr>\n",
       "  </tbody>\n",
       "</table>\n",
       "</div>"
      ],
      "text/plain": [
       "                                           Product Name   Ano     Sales\n",
       "1270  Cisco TelePresence System EX90 Videoconferenci...  2015  22638.48"
      ]
     },
     "execution_count": 50,
     "metadata": {},
     "output_type": "execute_result"
    }
   ],
   "source": [
    "# Para visualizar algum item dos top itens\n",
    "itens_ano[itens_ano[\"Product Name\"] == top_n_itens.iloc[2,0]]"
   ]
  },
  {
   "cell_type": "markdown",
   "metadata": {
    "id": "meGacn0F_2w-"
   },
   "source": [
    "**Como vamos criar esse gráfico? Como saber quais itens não aparecem em todos os anos?**"
   ]
  },
  {
   "cell_type": "markdown",
   "metadata": {
    "id": "4wb6rE81_2w-"
   },
   "source": [
    "### Juntando bases no pandas"
   ]
  },
  {
   "cell_type": "markdown",
   "metadata": {
    "id": "5UPCuWLd_2w-"
   },
   "source": [
    "**O <font color='blue'>.merge()</font> irá juntar duas bases**\n",
    "- Para isso, devemos passar:\n",
    "    - base 1\n",
    "    - base 2\n",
    "    - how: forma que iremos fazer essa junção das bases\n",
    "        - inner: o que tiver em comum entre as 2 bases (base 1 E base 2)\n",
    "        - outer: tudo o que tiver nas 2 bases (base 1 OU base 2)\n",
    "        - left: tudo o que tem na PRIMEIRA base, juntando com o que tiver na segunda\n",
    "        - right: tudo o que tem na SEGUNDA base, juntando com o que tiver na primeira\n",
    "    - on: colunar que vamos usar para fazer a junção da base"
   ]
  },
  {
   "cell_type": "code",
   "execution_count": 51,
   "metadata": {
    "id": "EvSqyKr7_2w-"
   },
   "outputs": [],
   "source": [
    "# Criando 2 dataframes\n",
    "dic1 = {\n",
    "    \"nomes\": ['Nome1','Nome2','Nome3'],\n",
    "    \"valores\": [1,2,3]\n",
    "}\n",
    "\n",
    "base_dic1 = pd.DataFrame(dic1)\n",
    "\n",
    "dic2 = {\n",
    "    \"nomes\": ['Nome1','Nome2','Nome4'],\n",
    "    \"valores\": [9,8,7]\n",
    "}\n",
    "\n",
    "base_dic2 = pd.DataFrame(dic2)"
   ]
  },
  {
   "cell_type": "code",
   "execution_count": 52,
   "metadata": {
    "id": "8lldaeIk_2w-",
    "outputId": "731c4868-af75-4e0f-ab9c-d521dfed3ee9"
   },
   "outputs": [
    {
     "data": {
      "text/html": [
       "<div>\n",
       "<style scoped>\n",
       "    .dataframe tbody tr th:only-of-type {\n",
       "        vertical-align: middle;\n",
       "    }\n",
       "\n",
       "    .dataframe tbody tr th {\n",
       "        vertical-align: top;\n",
       "    }\n",
       "\n",
       "    .dataframe thead th {\n",
       "        text-align: right;\n",
       "    }\n",
       "</style>\n",
       "<table border=\"1\" class=\"dataframe\">\n",
       "  <thead>\n",
       "    <tr style=\"text-align: right;\">\n",
       "      <th></th>\n",
       "      <th>nomes</th>\n",
       "      <th>valores_x</th>\n",
       "      <th>valores_y</th>\n",
       "    </tr>\n",
       "  </thead>\n",
       "  <tbody>\n",
       "    <tr>\n",
       "      <th>0</th>\n",
       "      <td>Nome1</td>\n",
       "      <td>1.0</td>\n",
       "      <td>9</td>\n",
       "    </tr>\n",
       "    <tr>\n",
       "      <th>1</th>\n",
       "      <td>Nome2</td>\n",
       "      <td>2.0</td>\n",
       "      <td>8</td>\n",
       "    </tr>\n",
       "    <tr>\n",
       "      <th>2</th>\n",
       "      <td>Nome4</td>\n",
       "      <td>NaN</td>\n",
       "      <td>7</td>\n",
       "    </tr>\n",
       "  </tbody>\n",
       "</table>\n",
       "</div>"
      ],
      "text/plain": [
       "   nomes  valores_x  valores_y\n",
       "0  Nome1        1.0          9\n",
       "1  Nome2        2.0          8\n",
       "2  Nome4        NaN          7"
      ]
     },
     "metadata": {},
     "output_type": "display_data"
    }
   ],
   "source": [
    "base_merge = pd.merge(\n",
    "    base_dic1, # <- primeira base\n",
    "    base_dic2, # <- segunda base\n",
    "    how='right', # <- tipo de junção que vamos fazer\n",
    "    on=\"nomes\" # <- coluna que vamos usar para fazer essa junção das bases\n",
    ") \n",
    "\n",
    "display(base_merge)"
   ]
  },
  {
   "cell_type": "code",
   "execution_count": 53,
   "metadata": {
    "id": "h-L-g7VN_2w-",
    "outputId": "5e581e13-bc1e-42c8-97c6-324dd6c407c4"
   },
   "outputs": [
    {
     "data": {
      "text/html": [
       "<div>\n",
       "<style scoped>\n",
       "    .dataframe tbody tr th:only-of-type {\n",
       "        vertical-align: middle;\n",
       "    }\n",
       "\n",
       "    .dataframe tbody tr th {\n",
       "        vertical-align: top;\n",
       "    }\n",
       "\n",
       "    .dataframe thead th {\n",
       "        text-align: right;\n",
       "    }\n",
       "</style>\n",
       "<table border=\"1\" class=\"dataframe\">\n",
       "  <thead>\n",
       "    <tr style=\"text-align: right;\">\n",
       "      <th></th>\n",
       "      <th>Product Name</th>\n",
       "      <th>Sales</th>\n",
       "    </tr>\n",
       "  </thead>\n",
       "  <tbody>\n",
       "    <tr>\n",
       "      <th>404</th>\n",
       "      <td>Canon imageCLASS 2200 Advanced Copier</td>\n",
       "      <td>61599.824</td>\n",
       "    </tr>\n",
       "    <tr>\n",
       "      <th>649</th>\n",
       "      <td>Fellowes PB500 Electric Punch Plastic Comb Bin...</td>\n",
       "      <td>27453.384</td>\n",
       "    </tr>\n",
       "    <tr>\n",
       "      <th>444</th>\n",
       "      <td>Cisco TelePresence System EX90 Videoconferenci...</td>\n",
       "      <td>22638.480</td>\n",
       "    </tr>\n",
       "    <tr>\n",
       "      <th>785</th>\n",
       "      <td>HON 5400 Series Task Chairs for Big and Tall</td>\n",
       "      <td>21870.576</td>\n",
       "    </tr>\n",
       "    <tr>\n",
       "      <th>685</th>\n",
       "      <td>GBC DocuBind TL300 Electric Binding System</td>\n",
       "      <td>19823.479</td>\n",
       "    </tr>\n",
       "    <tr>\n",
       "      <th>687</th>\n",
       "      <td>GBC Ibimaster 500 Manual ProClick Binding System</td>\n",
       "      <td>19024.500</td>\n",
       "    </tr>\n",
       "    <tr>\n",
       "      <th>804</th>\n",
       "      <td>Hewlett Packard LaserJet 3310 Copier</td>\n",
       "      <td>18839.686</td>\n",
       "    </tr>\n",
       "    <tr>\n",
       "      <th>786</th>\n",
       "      <td>HP Designjet T520 Inkjet Large Format Printer ...</td>\n",
       "      <td>18374.895</td>\n",
       "    </tr>\n",
       "    <tr>\n",
       "      <th>682</th>\n",
       "      <td>GBC DocuBind P400 Electric Binding System</td>\n",
       "      <td>17965.068</td>\n",
       "    </tr>\n",
       "    <tr>\n",
       "      <th>812</th>\n",
       "      <td>High Speed Automatic Electric Letter Opener</td>\n",
       "      <td>17030.312</td>\n",
       "    </tr>\n",
       "  </tbody>\n",
       "</table>\n",
       "</div>"
      ],
      "text/plain": [
       "                                          Product Name      Sales\n",
       "404              Canon imageCLASS 2200 Advanced Copier  61599.824\n",
       "649  Fellowes PB500 Electric Punch Plastic Comb Bin...  27453.384\n",
       "444  Cisco TelePresence System EX90 Videoconferenci...  22638.480\n",
       "785       HON 5400 Series Task Chairs for Big and Tall  21870.576\n",
       "685         GBC DocuBind TL300 Electric Binding System  19823.479\n",
       "687   GBC Ibimaster 500 Manual ProClick Binding System  19024.500\n",
       "804               Hewlett Packard LaserJet 3310 Copier  18839.686\n",
       "786  HP Designjet T520 Inkjet Large Format Printer ...  18374.895\n",
       "682          GBC DocuBind P400 Electric Binding System  17965.068\n",
       "812        High Speed Automatic Electric Letter Opener  17030.312"
      ]
     },
     "execution_count": 53,
     "metadata": {},
     "output_type": "execute_result"
    }
   ],
   "source": [
    "# Temos a nossa base de top itens\n",
    "top_n_itens"
   ]
  },
  {
   "cell_type": "markdown",
   "metadata": {
    "id": "pa_xZc4Q_2w-"
   },
   "source": [
    "**Como podemos cruzar a base com todos os anos de 2015 a 2018?**\n",
    "- Basta transformar as datas em um DataFrame e usar o merge para fazer essa união"
   ]
  },
  {
   "cell_type": "code",
   "execution_count": 54,
   "metadata": {
    "id": "hTrzm6M__2w-",
    "outputId": "4402b71e-b57b-4a1b-c403-adf06fa9e5a1"
   },
   "outputs": [
    {
     "data": {
      "text/html": [
       "<div>\n",
       "<style scoped>\n",
       "    .dataframe tbody tr th:only-of-type {\n",
       "        vertical-align: middle;\n",
       "    }\n",
       "\n",
       "    .dataframe tbody tr th {\n",
       "        vertical-align: top;\n",
       "    }\n",
       "\n",
       "    .dataframe thead th {\n",
       "        text-align: right;\n",
       "    }\n",
       "</style>\n",
       "<table border=\"1\" class=\"dataframe\">\n",
       "  <thead>\n",
       "    <tr style=\"text-align: right;\">\n",
       "      <th></th>\n",
       "      <th>Ano</th>\n",
       "    </tr>\n",
       "  </thead>\n",
       "  <tbody>\n",
       "    <tr>\n",
       "      <th>0</th>\n",
       "      <td>2018</td>\n",
       "    </tr>\n",
       "    <tr>\n",
       "      <th>1</th>\n",
       "      <td>2017</td>\n",
       "    </tr>\n",
       "    <tr>\n",
       "      <th>2</th>\n",
       "      <td>2016</td>\n",
       "    </tr>\n",
       "    <tr>\n",
       "      <th>3</th>\n",
       "      <td>2015</td>\n",
       "    </tr>\n",
       "  </tbody>\n",
       "</table>\n",
       "</div>"
      ],
      "text/plain": [
       "    Ano\n",
       "0  2018\n",
       "1  2017\n",
       "2  2016\n",
       "3  2015"
      ]
     },
     "execution_count": 54,
     "metadata": {},
     "output_type": "execute_result"
    }
   ],
   "source": [
    "df_datas = pd.DataFrame([2018,2017,2016,2015])\n",
    "df_datas.columns = ['Ano']\n",
    "df_datas"
   ]
  },
  {
   "cell_type": "markdown",
   "metadata": {
    "id": "0LNSs496_2w-"
   },
   "source": [
    "**Só que pra conseguir unir as bases, precisamos ter uma coluna em comum entre elas**\n",
    "- Então podemos, nas duas bases, criar uma coluna chamada `uniao` (ou qualquer outro nome) com o mesmo valor"
   ]
  },
  {
   "cell_type": "code",
   "execution_count": 55,
   "metadata": {
    "id": "aDV1kBey_2w_"
   },
   "outputs": [],
   "source": [
    "df_datas['uniao'] = 'unir'\n",
    "itens['uniao'] = 'unir'"
   ]
  },
  {
   "cell_type": "code",
   "execution_count": 56,
   "metadata": {
    "id": "b_AatfEm_2w_"
   },
   "outputs": [],
   "source": [
    "# Definindo o top n itens\n",
    "n = 10\n",
    "top_n_itens = itens.head(n)"
   ]
  },
  {
   "cell_type": "markdown",
   "metadata": {
    "id": "K7zWVecW_2w_"
   },
   "source": [
    "**Agora que temos uma coluna que conseguimos relacionar, podemos fazer o merge das bases**"
   ]
  },
  {
   "cell_type": "code",
   "execution_count": 57,
   "metadata": {
    "id": "sYBgp9X4_2w_",
    "outputId": "48f714f2-d02f-4e2d-d7c2-83470c3aff32"
   },
   "outputs": [
    {
     "data": {
      "text/html": [
       "<div>\n",
       "<style scoped>\n",
       "    .dataframe tbody tr th:only-of-type {\n",
       "        vertical-align: middle;\n",
       "    }\n",
       "\n",
       "    .dataframe tbody tr th {\n",
       "        vertical-align: top;\n",
       "    }\n",
       "\n",
       "    .dataframe thead th {\n",
       "        text-align: right;\n",
       "    }\n",
       "</style>\n",
       "<table border=\"1\" class=\"dataframe\">\n",
       "  <thead>\n",
       "    <tr style=\"text-align: right;\">\n",
       "      <th></th>\n",
       "      <th>Product Name</th>\n",
       "      <th>Sales</th>\n",
       "      <th>uniao</th>\n",
       "      <th>Ano</th>\n",
       "    </tr>\n",
       "  </thead>\n",
       "  <tbody>\n",
       "    <tr>\n",
       "      <th>0</th>\n",
       "      <td>Canon imageCLASS 2200 Advanced Copier</td>\n",
       "      <td>61599.824</td>\n",
       "      <td>unir</td>\n",
       "      <td>2018</td>\n",
       "    </tr>\n",
       "    <tr>\n",
       "      <th>1</th>\n",
       "      <td>Canon imageCLASS 2200 Advanced Copier</td>\n",
       "      <td>61599.824</td>\n",
       "      <td>unir</td>\n",
       "      <td>2017</td>\n",
       "    </tr>\n",
       "    <tr>\n",
       "      <th>2</th>\n",
       "      <td>Canon imageCLASS 2200 Advanced Copier</td>\n",
       "      <td>61599.824</td>\n",
       "      <td>unir</td>\n",
       "      <td>2016</td>\n",
       "    </tr>\n",
       "    <tr>\n",
       "      <th>3</th>\n",
       "      <td>Canon imageCLASS 2200 Advanced Copier</td>\n",
       "      <td>61599.824</td>\n",
       "      <td>unir</td>\n",
       "      <td>2015</td>\n",
       "    </tr>\n",
       "    <tr>\n",
       "      <th>4</th>\n",
       "      <td>Fellowes PB500 Electric Punch Plastic Comb Bin...</td>\n",
       "      <td>27453.384</td>\n",
       "      <td>unir</td>\n",
       "      <td>2018</td>\n",
       "    </tr>\n",
       "  </tbody>\n",
       "</table>\n",
       "</div>"
      ],
      "text/plain": [
       "                                        Product Name      Sales uniao   Ano\n",
       "0              Canon imageCLASS 2200 Advanced Copier  61599.824  unir  2018\n",
       "1              Canon imageCLASS 2200 Advanced Copier  61599.824  unir  2017\n",
       "2              Canon imageCLASS 2200 Advanced Copier  61599.824  unir  2016\n",
       "3              Canon imageCLASS 2200 Advanced Copier  61599.824  unir  2015\n",
       "4  Fellowes PB500 Electric Punch Plastic Comb Bin...  27453.384  unir  2018"
      ]
     },
     "execution_count": 57,
     "metadata": {},
     "output_type": "execute_result"
    }
   ],
   "source": [
    "produto_ano = pd.merge(\n",
    "    top_n_itens, # <- primeira base\n",
    "    df_datas, # <- segunda base\n",
    "    how='outer', # <- tipo de junção que vamos fazer\n",
    "    on=\"uniao\" # <- coluna que vamos usar para fazer essa junção das bases\n",
    ") \n",
    "\n",
    "produto_ano.head()"
   ]
  },
  {
   "cell_type": "markdown",
   "metadata": {
    "id": "1mMNyjlM_2w_"
   },
   "source": [
    "#### Agora podemos voltar para a base itens_ano e fazer a junção com essa base acima"
   ]
  },
  {
   "cell_type": "code",
   "execution_count": 58,
   "metadata": {
    "id": "xdyIqXKO_2w_",
    "outputId": "eae57316-a6a9-4126-fdef-df2559d1e0ba"
   },
   "outputs": [
    {
     "data": {
      "text/html": [
       "<div>\n",
       "<style scoped>\n",
       "    .dataframe tbody tr th:only-of-type {\n",
       "        vertical-align: middle;\n",
       "    }\n",
       "\n",
       "    .dataframe tbody tr th {\n",
       "        vertical-align: top;\n",
       "    }\n",
       "\n",
       "    .dataframe thead th {\n",
       "        text-align: right;\n",
       "    }\n",
       "</style>\n",
       "<table border=\"1\" class=\"dataframe\">\n",
       "  <thead>\n",
       "    <tr style=\"text-align: right;\">\n",
       "      <th></th>\n",
       "      <th>Product Name</th>\n",
       "      <th>Ano</th>\n",
       "      <th>Sales</th>\n",
       "    </tr>\n",
       "  </thead>\n",
       "  <tbody>\n",
       "    <tr>\n",
       "      <th>0</th>\n",
       "      <td>\"While you Were Out\" Message Book, One Form pe...</td>\n",
       "      <td>2018</td>\n",
       "      <td>25.228</td>\n",
       "    </tr>\n",
       "    <tr>\n",
       "      <th>1</th>\n",
       "      <td>#10 Gummed Flap White Envelopes, 100/Box</td>\n",
       "      <td>2016</td>\n",
       "      <td>6.608</td>\n",
       "    </tr>\n",
       "    <tr>\n",
       "      <th>2</th>\n",
       "      <td>#10 Gummed Flap White Envelopes, 100/Box</td>\n",
       "      <td>2017</td>\n",
       "      <td>24.780</td>\n",
       "    </tr>\n",
       "    <tr>\n",
       "      <th>3</th>\n",
       "      <td>#10 Gummed Flap White Envelopes, 100/Box</td>\n",
       "      <td>2018</td>\n",
       "      <td>9.912</td>\n",
       "    </tr>\n",
       "    <tr>\n",
       "      <th>4</th>\n",
       "      <td>#10 Self-Seal White Envelopes</td>\n",
       "      <td>2017</td>\n",
       "      <td>86.502</td>\n",
       "    </tr>\n",
       "    <tr>\n",
       "      <th>...</th>\n",
       "      <td>...</td>\n",
       "      <td>...</td>\n",
       "      <td>...</td>\n",
       "    </tr>\n",
       "    <tr>\n",
       "      <th>5269</th>\n",
       "      <td>invisibleSHIELD by ZAGG Smudge-Free Screen Pro...</td>\n",
       "      <td>2018</td>\n",
       "      <td>205.086</td>\n",
       "    </tr>\n",
       "    <tr>\n",
       "      <th>5270</th>\n",
       "      <td>netTALK DUO VoIP Telephone Service</td>\n",
       "      <td>2015</td>\n",
       "      <td>335.936</td>\n",
       "    </tr>\n",
       "    <tr>\n",
       "      <th>5271</th>\n",
       "      <td>netTALK DUO VoIP Telephone Service</td>\n",
       "      <td>2016</td>\n",
       "      <td>230.956</td>\n",
       "    </tr>\n",
       "    <tr>\n",
       "      <th>5272</th>\n",
       "      <td>netTALK DUO VoIP Telephone Service</td>\n",
       "      <td>2017</td>\n",
       "      <td>377.928</td>\n",
       "    </tr>\n",
       "    <tr>\n",
       "      <th>5273</th>\n",
       "      <td>netTALK DUO VoIP Telephone Service</td>\n",
       "      <td>2018</td>\n",
       "      <td>167.968</td>\n",
       "    </tr>\n",
       "  </tbody>\n",
       "</table>\n",
       "<p>5274 rows × 3 columns</p>\n",
       "</div>"
      ],
      "text/plain": [
       "                                           Product Name   Ano    Sales\n",
       "0     \"While you Were Out\" Message Book, One Form pe...  2018   25.228\n",
       "1              #10 Gummed Flap White Envelopes, 100/Box  2016    6.608\n",
       "2              #10 Gummed Flap White Envelopes, 100/Box  2017   24.780\n",
       "3              #10 Gummed Flap White Envelopes, 100/Box  2018    9.912\n",
       "4                         #10 Self-Seal White Envelopes  2017   86.502\n",
       "...                                                 ...   ...      ...\n",
       "5269  invisibleSHIELD by ZAGG Smudge-Free Screen Pro...  2018  205.086\n",
       "5270                 netTALK DUO VoIP Telephone Service  2015  335.936\n",
       "5271                 netTALK DUO VoIP Telephone Service  2016  230.956\n",
       "5272                 netTALK DUO VoIP Telephone Service  2017  377.928\n",
       "5273                 netTALK DUO VoIP Telephone Service  2018  167.968\n",
       "\n",
       "[5274 rows x 3 columns]"
      ]
     },
     "metadata": {},
     "output_type": "display_data"
    }
   ],
   "source": [
    "display(itens_ano)"
   ]
  },
  {
   "cell_type": "code",
   "execution_count": 59,
   "metadata": {
    "id": "WUKj-XwL_2w_",
    "outputId": "e1ce86ca-353c-4075-eb0a-89a519b90c19"
   },
   "outputs": [
    {
     "data": {
      "text/html": [
       "<div>\n",
       "<style scoped>\n",
       "    .dataframe tbody tr th:only-of-type {\n",
       "        vertical-align: middle;\n",
       "    }\n",
       "\n",
       "    .dataframe tbody tr th {\n",
       "        vertical-align: top;\n",
       "    }\n",
       "\n",
       "    .dataframe thead th {\n",
       "        text-align: right;\n",
       "    }\n",
       "</style>\n",
       "<table border=\"1\" class=\"dataframe\">\n",
       "  <thead>\n",
       "    <tr style=\"text-align: right;\">\n",
       "      <th></th>\n",
       "      <th>Product Name</th>\n",
       "      <th>Sales_x</th>\n",
       "      <th>uniao</th>\n",
       "      <th>Ano</th>\n",
       "      <th>Sales_y</th>\n",
       "    </tr>\n",
       "  </thead>\n",
       "  <tbody>\n",
       "    <tr>\n",
       "      <th>0</th>\n",
       "      <td>Canon imageCLASS 2200 Advanced Copier</td>\n",
       "      <td>61599.824</td>\n",
       "      <td>unir</td>\n",
       "      <td>2018</td>\n",
       "      <td>35699.898</td>\n",
       "    </tr>\n",
       "    <tr>\n",
       "      <th>1</th>\n",
       "      <td>Canon imageCLASS 2200 Advanced Copier</td>\n",
       "      <td>61599.824</td>\n",
       "      <td>unir</td>\n",
       "      <td>2017</td>\n",
       "      <td>25899.926</td>\n",
       "    </tr>\n",
       "    <tr>\n",
       "      <th>2</th>\n",
       "      <td>Canon imageCLASS 2200 Advanced Copier</td>\n",
       "      <td>61599.824</td>\n",
       "      <td>unir</td>\n",
       "      <td>2016</td>\n",
       "      <td>NaN</td>\n",
       "    </tr>\n",
       "    <tr>\n",
       "      <th>3</th>\n",
       "      <td>Canon imageCLASS 2200 Advanced Copier</td>\n",
       "      <td>61599.824</td>\n",
       "      <td>unir</td>\n",
       "      <td>2015</td>\n",
       "      <td>NaN</td>\n",
       "    </tr>\n",
       "    <tr>\n",
       "      <th>4</th>\n",
       "      <td>Fellowes PB500 Electric Punch Plastic Comb Bin...</td>\n",
       "      <td>27453.384</td>\n",
       "      <td>unir</td>\n",
       "      <td>2018</td>\n",
       "      <td>7371.742</td>\n",
       "    </tr>\n",
       "  </tbody>\n",
       "</table>\n",
       "</div>"
      ],
      "text/plain": [
       "                                        Product Name    Sales_x uniao   Ano  \\\n",
       "0              Canon imageCLASS 2200 Advanced Copier  61599.824  unir  2018   \n",
       "1              Canon imageCLASS 2200 Advanced Copier  61599.824  unir  2017   \n",
       "2              Canon imageCLASS 2200 Advanced Copier  61599.824  unir  2016   \n",
       "3              Canon imageCLASS 2200 Advanced Copier  61599.824  unir  2015   \n",
       "4  Fellowes PB500 Electric Punch Plastic Comb Bin...  27453.384  unir  2018   \n",
       "\n",
       "     Sales_y  \n",
       "0  35699.898  \n",
       "1  25899.926  \n",
       "2        NaN  \n",
       "3        NaN  \n",
       "4   7371.742  "
      ]
     },
     "execution_count": 59,
     "metadata": {},
     "output_type": "execute_result"
    }
   ],
   "source": [
    "itens_ano_grafico = pd.merge(\n",
    "    produto_ano,\n",
    "    itens_ano,\n",
    "    how='left',\n",
    "    on=['Product Name','Ano']\n",
    ")\n",
    "        \n",
    "itens_ano_grafico.head()"
   ]
  },
  {
   "cell_type": "code",
   "execution_count": 60,
   "metadata": {
    "id": "J4jlHLa3_2w_",
    "outputId": "e370bb1d-ce15-4582-dd35-2d64a072dbc4"
   },
   "outputs": [
    {
     "data": {
      "text/plain": [
       "array([35699.898,  7371.742,       nan,  7220.094, 10943.278,   760.98 ,\n",
       "        9239.846,       nan,  7077.148,       nan])"
      ]
     },
     "execution_count": 60,
     "metadata": {},
     "output_type": "execute_result"
    }
   ],
   "source": [
    "itens_ano_grafico[itens_ano_grafico.Ano == 2018].Sales_y.values"
   ]
  },
  {
   "cell_type": "markdown",
   "metadata": {
    "id": "lTFYq31J_2w_"
   },
   "source": [
    "**Agora podemos usar esses dados para traçar o gráfico**"
   ]
  },
  {
   "cell_type": "code",
   "execution_count": 61,
   "metadata": {
    "id": "IJDnkoFp_2xA",
    "outputId": "d1047722-e970-40ff-8027-5ee906ffaa36"
   },
   "outputs": [
    {
     "data": {
      "image/png": "[encoded data removed]",
      "text/plain": [
       "<Figure size 1152x864 with 1 Axes>"
      ]
     },
     "metadata": {
      "needs_background": "light"
     },
     "output_type": "display_data"
    }
   ],
   "source": [
    "# Vamos criar o gráfico baseado nesse DataFrame que acabamos de criar\n",
    "fig,ax = plt.subplots(\n",
    "            figsize = (16,12)\n",
    "        )\n",
    "\n",
    "hgt = 0.2\n",
    "\n",
    "qtd_itens = len(top_n_itens)\n",
    "\n",
    "ax.barh(np.arange(0,qtd_itens)-hgt-hgt/2, #Valores de y\n",
    "        itens_ano_grafico[itens_ano_grafico.Ano == 2018].Sales_y.values, # Valores de x \n",
    "        align='center',\n",
    "        height=hgt, # Comprimento do gráfico\n",
    "        label=2018,\n",
    "        color=\"#0069c0\"\n",
    "       )\n",
    "ax.barh(np.arange(0,qtd_itens)-hgt/2, #Valores de y\n",
    "        itens_ano_grafico[itens_ano_grafico.Ano == 2017].Sales_y.values, # Valores de x \n",
    "        align='center',height=hgt,label=2017,color=\"#008ac5\")\n",
    "ax.barh(np.arange(0,qtd_itens)+hgt/2, #Valores de y\n",
    "        itens_ano_grafico[itens_ano_grafico.Ano == 2016].Sales_y.values, # Valores de x \n",
    "        align='center',height=hgt,label=2016,color=\"#00a9b5\")\n",
    "ax.barh(np.arange(0,qtd_itens)+hgt+hgt/2, #Valores de y\n",
    "        itens_ano_grafico[itens_ano_grafico.Ano == 2015].Sales_y.values, # Valores de x \n",
    "        align='center',height=hgt,label=2015,color=\"#00c698\")\n",
    "\n",
    "ax.invert_yaxis() # Inverter o eixo y (deixando o gráfico do maior para o menor)\n",
    "ax.legend()\n",
    "\n",
    "for i in np.arange(0,qtd_itens):\n",
    "    ax.annotate('{:,.1f}k'.format(itens_ano_grafico[itens_ano_grafico.Ano == 2018].Sales_y.values[i]/1000), \n",
    "                (itens_ano_grafico[itens_ano_grafico.Ano == 2018].Sales_y.values[i],i-hgt-hgt/2), \n",
    "                ha=\"center\", va=\"top\", xytext=(20,6), textcoords=\"offset points\", \n",
    "                fontsize=12, fontweight='bold', color=\"#0069c0\")\n",
    "    \n",
    "ax.yaxis.set_ticks(np.arange(0,qtd_itens)) # Ajustando os valores de x\n",
    "ax.set_yticklabels(top_n_itens[\"Product Name\"]) # Colocando rótulo no meu eixo\n",
    "ax.tick_params(axis='y',labelsize=10) # Melhorando o visual do eixo x\n",
    "\n",
    "ax.xaxis.set_visible(False) \n",
    "\n",
    "ax.spines['top'].set_visible(False) \n",
    "ax.spines['right'].set_visible(False)\n",
    "ax.spines['bottom'].set_visible(False)\n",
    "\n",
    "plt.show()"
   ]
  },
  {
   "cell_type": "markdown",
   "metadata": {
    "id": "Q30pDEaV_2xA"
   },
   "source": [
    "**Como resultado final, teremos o gráfico abaixo**"
   ]
  },
  {
   "cell_type": "code",
   "execution_count": 62,
   "metadata": {
    "id": "NHMIDEIm_2xA",
    "outputId": "9a739791-215e-4d13-debd-ce73e1b453e9"
   },
   "outputs": [
    {
     "data": {
      "image/png": "[encoded data removed]",
      "text/plain": [
       "<Figure size 1152x864 with 1 Axes>"
      ]
     },
     "metadata": {
      "needs_background": "light"
     },
     "output_type": "display_data"
    }
   ],
   "source": [
    "# Vamos criar o gráfico baseado nesse DataFrame que acabamos de criar\n",
    "fig,ax = plt.subplots(\n",
    "            figsize = (16,12)\n",
    "        )\n",
    "\n",
    "hgt = 0.2\n",
    "\n",
    "qtd_itens = len(top_n_itens)\n",
    "\n",
    "ax.barh(np.arange(0,qtd_itens)-hgt-hgt/2, #Valores de y\n",
    "        itens_ano_grafico[itens_ano_grafico.Ano == 2018].Sales_y.values, # Valores de x \n",
    "        align='center',\n",
    "        height=hgt, # Comprimento do gráfico\n",
    "        label=2018,\n",
    "        color=\"#0069c0\"\n",
    "       )\n",
    "ax.barh(np.arange(0,qtd_itens)-hgt/2, #Valores de y\n",
    "        itens_ano_grafico[itens_ano_grafico.Ano == 2017].Sales_y.values, # Valores de x \n",
    "        align='center',height=hgt,label=2017,color=\"#008ac5\")\n",
    "ax.barh(np.arange(0,qtd_itens)+hgt/2, #Valores de y\n",
    "        itens_ano_grafico[itens_ano_grafico.Ano == 2016].Sales_y.values, # Valores de x \n",
    "        align='center',height=hgt,label=2016,color=\"#00a9b5\")\n",
    "ax.barh(np.arange(0,qtd_itens)+hgt+hgt/2, #Valores de y\n",
    "        itens_ano_grafico[itens_ano_grafico.Ano == 2015].Sales_y.values, # Valores de x \n",
    "        align='center',height=hgt,label=2015,color=\"#00c698\")\n",
    "\n",
    "ax.invert_yaxis() # Inverter o eixo y (deixando o gráfico do maior para o menor)\n",
    "ax.legend()\n",
    "\n",
    "for i in np.arange(0,qtd_itens):\n",
    "    ax.annotate('{:,.1f}k'.format(itens_ano_grafico[itens_ano_grafico.Ano == 2018].Sales_y.values[i]/1000), \n",
    "                (itens_ano_grafico[itens_ano_grafico.Ano == 2018].Sales_y.values[i],i-hgt-hgt/2), \n",
    "                ha=\"center\", va=\"top\", xytext=(20,6), textcoords=\"offset points\", \n",
    "                fontsize=12, fontweight='bold', color=\"#0069c0\")\n",
    "    \n",
    "ax.yaxis.set_ticks(np.arange(0,qtd_itens)) # Ajustando os valores de x\n",
    "ax.set_yticklabels(top_n_itens[\"Product Name\"]) # Colocando rótulo no meu eixo\n",
    "ax.tick_params(axis='y',labelsize=10) # Melhorando o visual do eixo x\n",
    "\n",
    "ax.xaxis.set_visible(False) \n",
    "\n",
    "ax.spines['top'].set_visible(False) \n",
    "ax.spines['right'].set_visible(False)\n",
    "ax.spines['bottom'].set_visible(False)\n",
    "\n",
    "plt.show()"
   ]
  },
  {
   "cell_type": "markdown",
   "metadata": {
    "id": "TKymfStg_2xA"
   },
   "source": [
    "# Resumindo as perguntas"
   ]
  },
  {
   "cell_type": "code",
   "execution_count": 63,
   "metadata": {
    "id": "PGOFfHsI_2xA",
    "outputId": "1270c02f-86f0-4b10-dad3-2f33ab533258"
   },
   "outputs": [
    {
     "data": {
      "image/png": "[encoded data removed]",
      "text/plain": [
       "<Figure size 648x288 with 1 Axes>"
      ]
     },
     "metadata": {
      "needs_background": "light"
     },
     "output_type": "display_data"
    }
   ],
   "source": [
    "fig,ax = plt.subplots(\n",
    "            figsize = (9,4) # Tamanho da figura\n",
    "        )\n",
    "\n",
    "soma_ano = base.groupby(\"Ano\")[\"Sales\"].sum() # Valores que vamos usar para criar o nosso gráfico\n",
    "\n",
    "ax.bar(soma_ano.index,soma_ano.values,\n",
    "       color=\"#84ba5b\" # Cor das barras\n",
    "      )\n",
    "\n",
    "ax.set_title(\"VENDAS POR ANO\", # Título do gráfico\n",
    "             fontsize=20, # Tamanho da fonte\n",
    "             fontweight='bold', # Espessura da fonte\n",
    "             color='#00b247' # Cor da fonte\n",
    "            )\n",
    "\n",
    "ax.xaxis.set_ticks([2015,2016,2017,2018]) # Ajustando os valores de x\n",
    "ax.tick_params(axis='x',labelsize=14) # Melhorando o visual do eixo x\n",
    "\n",
    "# O Annotate é quem vai permitir que a gente coloque rótulo nos dados\n",
    "for i in np.arange(0,4):\n",
    "    ax.annotate('{:,.0f}'.format(soma_ano.values[i]).replace(',', '.'), # Valores que vão ser mostrados como rótulos, já formatados\n",
    "                (soma_ano.index[i],soma_ano.values[i]), # Posição (x,y que esses valores vão estar)\n",
    "                ha=\"center\",  # Alinhamento horizontal do texto\n",
    "                va=\"top\", # Alinhamento vertical do texto\n",
    "                xytext=(0,+15), # Deslocamento em relação ao ponto que o texto estaria\n",
    "                textcoords=\"offset points\",  # Sistema de coordenadas que o xytext vai ter como referência (nesse caso será em pontos, não em pixels)\n",
    "                fontsize=14, # Tamanho da fonte dos rótulos\n",
    "                fontweight='bold', # Espessura da fonte dos rótulos\n",
    "                color=\"green\" # Cor dos rótulos\n",
    "            )\n",
    "    \n",
    "ax.set_yticks(np.array([0,790000])) # Diminuindo o tamanho das barras para não cortar o rótulo\n",
    "ax.yaxis.set_visible(False) # Retirando os valores do eixo y\n",
    "\n",
    "ax.spines['top'].set_visible(False) # Retirando os traços do gráfico\n",
    "ax.spines['left'].set_visible(False)\n",
    "ax.spines['right'].set_visible(False)\n",
    "\n",
    "plt.show()"
   ]
  },
  {
   "cell_type": "code",
   "execution_count": 64,
   "metadata": {
    "id": "mTAX_LJL_2xA",
    "outputId": "b3eead5d-95b3-491e-ae99-f3e2553fd761"
   },
   "outputs": [
    {
     "data": {
      "image/png": "[encoded data removed]",
      "text/plain": [
       "<Figure size 1152x288 with 1 Axes>"
      ]
     },
     "metadata": {
      "needs_background": "light"
     },
     "output_type": "display_data"
    }
   ],
   "source": [
    "fig,ax = plt.subplots(\n",
    "            figsize = (16,4) # Tamanho da figura\n",
    "        )\n",
    "\n",
    "ax.set_title(\"VENDAS POR MÊS\", # Título do gráfico\n",
    "             fontsize=20, # Tamanho da fonte\n",
    "             fontweight='bold', # Espessura da fonte\n",
    "             color='#00b247' # Cor da fonte\n",
    "            )\n",
    "\n",
    "wid = 0.2 # Tamanho das barras\n",
    "\n",
    "ax.bar(soma_mes[soma_mes.Ano == 2015].Mes.values-wid-wid/2, # Ajuste da posição das barras\n",
    "       soma_mes[soma_mes.Ano == 2015].Sales.values,\n",
    "       color=\"#00c698\", # Cor das barras\n",
    "       label=2015, # Label dos dados\n",
    "       width=wid # Largura das barras\n",
    "      )\n",
    "ax.bar(soma_mes[soma_mes.Ano == 2016].Mes.values-wid/2, \n",
    "       soma_mes[soma_mes.Ano == 2016].Sales.values,\n",
    "       color=\"#00a9b5\", \n",
    "       label=2016,\n",
    "       width=wid \n",
    "      )\n",
    "\n",
    "# Adicionando o restante das barras\n",
    "ax.bar(soma_mes[soma_mes.Ano == 2017].Mes.values+wid/2, \n",
    "       soma_mes[soma_mes.Ano == 2017].Sales.values,\n",
    "       color=\"#008ac5\", \n",
    "       label=2017,\n",
    "       width=wid \n",
    "      )\n",
    "ax.bar(soma_mes[soma_mes.Ano == 2018].Mes.values+wid+wid/2, \n",
    "       soma_mes[soma_mes.Ano == 2018].Sales.values,\n",
    "       color=\"#0069c0\", \n",
    "       label=2018,\n",
    "       width=wid \n",
    "      )\n",
    "ax.legend()\n",
    "\n",
    "# Adicionando o rótulo dos dados para 2018\n",
    "for i in np.arange(0,12):\n",
    "    ax.annotate('{:,.0f}k'.format(soma_mes[soma_mes.Ano == 2018].Sales.values[i]/1000), # Valores que vão ser mostrados como rótulos, já formatados\n",
    "                (soma_mes[soma_mes.Ano == 2018].Mes.values[i]+wid+wid/2,soma_mes[soma_mes.Ano == 2018].Sales.values[i]), # Posição (x,y que esses valores vão estar)\n",
    "                ha=\"center\",  # Alinhamento horizontal do texto\n",
    "                va=\"top\", # Alinhamento vertical do texto\n",
    "                xytext=(5,12), # Deslocamento em relação ao ponto que o texto estaria\n",
    "                textcoords=\"offset points\",  # Sistema de coordenadas que o xytext vai ter como referência (nesse caso será em pontos, não em pixels)\n",
    "                fontsize=10, # Tamanho da fonte dos rótulos\n",
    "                fontweight='bold', # Espessura da fonte dos rótulos\n",
    "                color=\"#0069c0\" # Cor dos rótulos\n",
    "            )\n",
    "\n",
    "ax.set_yticks(np.array([0,97000])) # Diminuindo o tamanho das barras para não cortar o rótulo\n",
    "ax.yaxis.set_visible(False) # Retirando os valores do eixo y\n",
    "    \n",
    "ax.spines['top'].set_visible(False) # Retirando os traços do gráfico\n",
    "ax.spines['left'].set_visible(False)\n",
    "ax.spines['right'].set_visible(False)\n",
    "\n",
    "ax.xaxis.set_ticks(np.arange(1,13)) # Ajustando os valores de x\n",
    "ax.set_xticklabels(['Jan','Fev','Mar','Abr','Mai','Jun','Jul','Ago','Set','Out','Nov','Dez']) # Colocando rótulo no meu eixo\n",
    "ax.tick_params(axis='x',labelsize=10) # Melhorando o visual do eixo x\n",
    "\n",
    "plt.show()"
   ]
  },
  {
   "cell_type": "code",
   "execution_count": 65,
   "metadata": {
    "id": "7ByWXh5O_2xA",
    "outputId": "5dc000e0-a29f-459c-b761-fae024233774"
   },
   "outputs": [
    {
     "data": {
      "image/png": "[encoded data removed]",
      "text/plain": [
       "<Figure size 1152x288 with 1 Axes>"
      ]
     },
     "metadata": {
      "needs_background": "light"
     },
     "output_type": "display_data"
    }
   ],
   "source": [
    "fig,ax = plt.subplots(\n",
    "            figsize = (16,4)\n",
    "        )\n",
    "\n",
    "ax.set_title(\"VENDAS POR CATEGORIA\", # Título do gráfico\n",
    "             fontsize=20, # Tamanho da fonte\n",
    "             fontweight='bold', # Espessura da fonte\n",
    "             color='#00b247' # Cor da fonte\n",
    "            )\n",
    "\n",
    "wid = 0.2 \n",
    "\n",
    "ax.bar(categoria[categoria.Category == 'Furniture'].Ano.values-wid, # Como temos 3 colunas, vamos deslocar a largura da coluna inteira\n",
    "       categoria[categoria.Category == 'Furniture'].Sales.values,\n",
    "       color=\"#00c698\", \n",
    "       label='Furniture', # As legendas agora serão as categorias\n",
    "       width=wid\n",
    "      )\n",
    "\n",
    "ax.bar(categoria[categoria.Category == 'Office Supplies'].Ano.values, \n",
    "       categoria[categoria.Category == 'Office Supplies'].Sales.values,\n",
    "       color=\"#00a9b5\", \n",
    "       label='Office Supplies', \n",
    "       width=wid\n",
    "      )\n",
    "\n",
    "ax.bar(categoria[categoria.Category == 'Technology'].Ano.values+wid, \n",
    "       categoria[categoria.Category == 'Technology'].Sales.values,\n",
    "       color=\"#008ac5\", \n",
    "       label='Technology', \n",
    "       width=wid\n",
    "      )\n",
    "\n",
    "ax.legend()\n",
    "\n",
    "for i in np.arange(0,4):\n",
    "    ax.annotate('{:,.0f}k'.format(categoria[categoria.Category == 'Furniture'].Sales.values[i]/1000), \n",
    "                (categoria[categoria.Category == 'Furniture'].Ano.values[i]-wid,categoria[categoria.Category == 'Furniture'].Sales.values[i]), \n",
    "                ha=\"center\", va=\"top\", xytext=(0,15), textcoords=\"offset points\", \n",
    "                fontsize=12, fontweight='bold', color=\"#00c698\")\n",
    "    ax.annotate('{:,.0f}k'.format(categoria[categoria.Category == 'Office Supplies'].Sales.values[i]/1000), \n",
    "                (categoria[categoria.Category == 'Office Supplies'].Ano.values[i],categoria[categoria.Category == 'Office Supplies'].Sales.values[i]), \n",
    "                ha=\"center\", va=\"top\", xytext=(0,15), textcoords=\"offset points\", \n",
    "                fontsize=12, fontweight='bold', color=\"#00a9b5\")\n",
    "    ax.annotate('{:,.0f}k'.format(categoria[categoria.Category == 'Technology'].Sales.values[i]/1000), \n",
    "                (categoria[categoria.Category == 'Technology'].Ano.values[i]+wid,categoria[categoria.Category == 'Technology'].Sales.values[i]), \n",
    "                ha=\"center\", va=\"top\", xytext=(0,15), textcoords=\"offset points\", \n",
    "                fontsize=12, fontweight='bold', color=\"#008ac5\")   \n",
    "    \n",
    "ax.set_yticks(np.array([0,350000]))\n",
    "ax.yaxis.set_visible(False) \n",
    "\n",
    "ax.spines['top'].set_visible(False) \n",
    "ax.spines['left'].set_visible(False)\n",
    "ax.spines['right'].set_visible(False)\n",
    "\n",
    "ax.xaxis.set_ticks(np.arange(2015,2019)) \n",
    "ax.tick_params(axis='x',labelsize=12) \n",
    "\n",
    "plt.show()"
   ]
  },
  {
   "cell_type": "code",
   "execution_count": 66,
   "metadata": {
    "id": "fF41KF5D_2xB",
    "outputId": "c929e662-6c80-45f0-9a9c-4f02b43cddbe"
   },
   "outputs": [
    {
     "data": {
      "image/png": "[encoded data removed]",
      "text/plain": [
       "<Figure size 1152x864 with 1 Axes>"
      ]
     },
     "metadata": {
      "needs_background": "light"
     },
     "output_type": "display_data"
    }
   ],
   "source": [
    "fig,ax = plt.subplots(\n",
    "            figsize = (16,12)\n",
    "        )\n",
    "\n",
    "ax.set_title(\"TOP ITENS\", # Título do gráfico\n",
    "             fontsize=20, # Tamanho da fonte\n",
    "             fontweight='bold', # Espessura da fonte\n",
    "             color='#00b247' # Cor da fonte\n",
    "            )\n",
    "\n",
    "ax.barh(top_n_itens['Product Name'].values, #Valores de y\n",
    "        top_n_itens['Sales'].values, # Valores de x \n",
    "        align='center')\n",
    "\n",
    "ax.invert_yaxis() # Inverter o eixo y (deixando o gráfico do maior para o menor)\n",
    "\n",
    "for i in np.arange(0,n):\n",
    "    ax.annotate('{:,.0f}k'.format(top_n_itens['Sales'].values[i]/1000), \n",
    "                (top_n_itens['Sales'].values[i],i), \n",
    "                ha=\"center\", va=\"top\", xytext=(-15,3), textcoords=\"offset points\", \n",
    "                fontsize=12, fontweight='bold', color=\"white\")\n",
    "    \n",
    "ax.xaxis.set_visible(False) \n",
    "\n",
    "ax.spines['top'].set_visible(False) \n",
    "ax.spines['left'].set_visible(False)\n",
    "ax.spines['right'].set_visible(False)\n",
    "ax.spines['bottom'].set_visible(False)\n",
    "\n",
    "plt.show()"
   ]
  },
  {
   "cell_type": "code",
   "execution_count": 67,
   "metadata": {
    "id": "t4WgNzdl_2xB",
    "outputId": "c98af5fc-dcbc-44d3-ed37-d4c92c368b23"
   },
   "outputs": [
    {
     "data": {
      "image/png": "[encoded data removed]",
      "text/plain": [
       "<Figure size 1152x864 with 1 Axes>"
      ]
     },
     "metadata": {
      "needs_background": "light"
     },
     "output_type": "display_data"
    }
   ],
   "source": [
    "fig,ax = plt.subplots(\n",
    "            figsize = (16,12)\n",
    "        )\n",
    "ax.set_title(\"ITENS X ANOS\", # Título do gráfico\n",
    "             fontsize=20, # Tamanho da fonte\n",
    "             fontweight='bold', # Espessura da fonte\n",
    "             color='#00b247' # Cor da fonte\n",
    "             \n",
    "            )\n",
    "\n",
    "hgt = 0.2\n",
    "\n",
    "qtd_itens = len(top_n_itens)\n",
    "\n",
    "ax.barh(np.arange(0,qtd_itens)-hgt-hgt/2, #Valores de y\n",
    "        itens_ano_grafico[itens_ano_grafico.Ano == 2018].Sales_y.values, # Valores de x \n",
    "        align='center',\n",
    "        height=hgt, # Comprimento do gráfico\n",
    "        label=2018,\n",
    "        color=\"#0069c0\"\n",
    "       )\n",
    "ax.barh(np.arange(0,qtd_itens)-hgt/2, #Valores de y\n",
    "        itens_ano_grafico[itens_ano_grafico.Ano == 2017].Sales_y.values, # Valores de x \n",
    "        align='center',height=hgt,label=2017,color=\"#008ac5\")\n",
    "ax.barh(np.arange(0,qtd_itens)+hgt/2, #Valores de y\n",
    "        itens_ano_grafico[itens_ano_grafico.Ano == 2016].Sales_y.values, # Valores de x \n",
    "        align='center',height=hgt,label=2016,color=\"#00a9b5\")\n",
    "ax.barh(np.arange(0,qtd_itens)+hgt+hgt/2, #Valores de y\n",
    "        itens_ano_grafico[itens_ano_grafico.Ano == 2015].Sales_y.values, # Valores de x \n",
    "        align='center',height=hgt,label=2015,color=\"#00c698\")\n",
    "\n",
    "ax.invert_yaxis() # Inverter o eixo y (deixando o gráfico do maior para o menor)\n",
    "ax.legend()\n",
    "\n",
    "for i in np.arange(0,qtd_itens):\n",
    "    ax.annotate('{:,.1f}k'.format(itens_ano_grafico[itens_ano_grafico.Ano == 2018].Sales_y.values[i]/1000), \n",
    "                (itens_ano_grafico[itens_ano_grafico.Ano == 2018].Sales_y.values[i],i-hgt-hgt/2), \n",
    "                ha=\"center\", va=\"top\", xytext=(20,6), textcoords=\"offset points\", \n",
    "                fontsize=12, fontweight='bold', color=\"#0069c0\")\n",
    "    \n",
    "ax.yaxis.set_ticks(np.arange(0,qtd_itens)) # Ajustando os valores de x\n",
    "ax.set_yticklabels(top_n_itens[\"Product Name\"]) # Colocando rótulo no meu eixo\n",
    "ax.tick_params(axis='y',labelsize=10) # Melhorando o visual do eixo x\n",
    "\n",
    "ax.xaxis.set_visible(False) \n",
    "\n",
    "ax.spines['top'].set_visible(False) \n",
    "ax.spines['right'].set_visible(False)\n",
    "ax.spines['bottom'].set_visible(False)\n",
    "\n",
    "plt.show()"
   ]
  },
  {
   "cell_type": "markdown",
   "metadata": {
    "id": "xJZ8kbeN_2xB"
   },
   "source": [
    "### EXTRA: E se quisermos outros tipos de gráficos?"
   ]
  },
  {
   "cell_type": "code",
   "execution_count": 68,
   "metadata": {
    "id": "5zcFR8Kv_2xC",
    "outputId": "ddd256db-83ec-4f85-fa4b-e0d02f42f544"
   },
   "outputs": [
    {
     "data": {
      "image/png": "[encoded data removed]",
      "text/plain": [
       "<Figure size 1152x288 with 1 Axes>"
      ]
     },
     "metadata": {
      "needs_background": "light"
     },
     "output_type": "display_data"
    }
   ],
   "source": [
    "fig,ax = plt.subplots(\n",
    "            figsize = (16,4) # Tamanho da figura\n",
    "        )\n",
    "\n",
    "ax.set_title(\"VENDAS POR MÊS\", # Título do gráfico\n",
    "             fontsize=20, # Tamanho da fonte\n",
    "             fontweight='bold', # Espessura da fonte\n",
    "             color='#00b247' # Cor da fonte\n",
    "            )\n",
    "\n",
    "wid = 0.2 # Tamanho das barras\n",
    "\n",
    "ax.plot(soma_mes[soma_mes.Ano == 2015].Mes.values-wid-wid/2, # Ajuste da posição das barras\n",
    "       soma_mes[soma_mes.Ano == 2015].Sales.values,\n",
    "       color=\"#00c698\", # Cor das barras\n",
    "       label=2015 # Label dos dados\n",
    "      )\n",
    "ax.plot(soma_mes[soma_mes.Ano == 2016].Mes.values-wid/2, \n",
    "       soma_mes[soma_mes.Ano == 2016].Sales.values,\n",
    "       color=\"#00a9b5\", \n",
    "       label=2016\n",
    "      )\n",
    "\n",
    "# Adicionando o restante das barras\n",
    "ax.plot(soma_mes[soma_mes.Ano == 2017].Mes.values+wid/2, \n",
    "       soma_mes[soma_mes.Ano == 2017].Sales.values,\n",
    "       color=\"#008ac5\", \n",
    "       label=2017\n",
    "      )\n",
    "ax.plot(soma_mes[soma_mes.Ano == 2018].Mes.values+wid+wid/2, \n",
    "       soma_mes[soma_mes.Ano == 2018].Sales.values,\n",
    "       color=\"#0069c0\", \n",
    "       label=2018\n",
    "      )\n",
    "ax.legend()\n",
    "\n",
    "# Adicionando o rótulo dos dados para 2018\n",
    "for i in np.arange(0,12):\n",
    "    ax.annotate('{:,.0f}k'.format(soma_mes[soma_mes.Ano == 2018].Sales.values[i]/1000), # Valores que vão ser mostrados como rótulos, já formatados\n",
    "                (soma_mes[soma_mes.Ano == 2018].Mes.values[i]+wid+wid/2,soma_mes[soma_mes.Ano == 2018].Sales.values[i]), # Posição (x,y que esses valores vão estar)\n",
    "                ha=\"center\",  # Alinhamento horizontal do texto\n",
    "                va=\"top\", # Alinhamento vertical do texto\n",
    "                xytext=(5,12), # Deslocamento em relação ao ponto que o texto estaria\n",
    "                textcoords=\"offset points\",  # Sistema de coordenadas que o xytext vai ter como referência (nesse caso será em pontos, não em pixels)\n",
    "                fontsize=10, # Tamanho da fonte dos rótulos\n",
    "                fontweight='bold', # Espessura da fonte dos rótulos\n",
    "                color=\"#0069c0\" # Cor dos rótulos\n",
    "            )\n",
    "\n",
    "ax.set_yticks(np.array([0,97000])) # Diminuindo o tamanho das barras para não cortar o rótulo\n",
    "ax.yaxis.set_visible(False) # Retirando os valores do eixo y\n",
    "    \n",
    "ax.spines['top'].set_visible(False) # Retirando os traços do gráfico\n",
    "ax.spines['left'].set_visible(False)\n",
    "ax.spines['right'].set_visible(False)\n",
    "\n",
    "ax.xaxis.set_ticks(np.arange(1,13)) # Ajustando os valores de x\n",
    "ax.set_xticklabels(['Jan','Fev','Mar','Abr','Mai','Jun','Jul','Ago','Set','Out','Nov','Dez']) # Colocando rótulo no meu eixo\n",
    "ax.tick_params(axis='x',labelsize=10) # Melhorando o visual do eixo x\n",
    "\n",
    "plt.show()"
   ]
  }
 ],
 "metadata": {
  "colab": {
   "name": "Criando uma apresentação executiva - Arquivo Final.ipynb",
   "provenance": []
  },
  "kernelspec": {
   "display_name": "Python 3",
   "language": "python",
   "name": "python3"
  },
  "language_info": {
   "codemirror_mode": {
    "name": "ipython",
    "version": 3
   },
   "file_extension": ".py",
   "mimetype": "text/x-python",
   "name": "python",
   "nbconvert_exporter": "python",
   "pygments_lexer": "ipython3",
   "version": "3.8.5"
  }
 },
 "nbformat": 4,
 "nbformat_minor": 1
}
